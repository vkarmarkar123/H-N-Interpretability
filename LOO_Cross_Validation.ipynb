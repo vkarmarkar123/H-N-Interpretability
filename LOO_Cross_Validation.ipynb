{
 "cells": [
  {
   "cell_type": "code",
   "execution_count": 16,
   "id": "initial_id",
   "metadata": {
    "collapsed": true,
    "ExecuteTime": {
     "end_time": "2024-01-18T18:07:38.672729Z",
     "start_time": "2024-01-18T18:07:38.665582Z"
    }
   },
   "outputs": [],
   "source": [
    "import xgboost as xgb\n",
    "from sklearn.model_selection import LeaveOneOut\n",
    "from sklearn.metrics import accuracy_score\n",
    "import pandas as pd\n",
    "from sklearn.metrics import roc_curve\n",
    "import numpy as np\n",
    "from sklearn.metrics import roc_auc_score, accuracy_score\n",
    "import matplotlib.pyplot as plt\n",
    "from sklearn.metrics import confusion_matrix\n",
    "import seaborn as sns\n",
    "from sklearn.model_selection import train_test_split\n"
   ]
  },
  {
   "cell_type": "code",
   "execution_count": 2,
   "outputs": [
    {
     "name": "stderr",
     "output_type": "stream",
     "text": [
      "/var/folders/6g/jsvgykrx6q53bm52dz7x1ldm0000gn/T/ipykernel_4002/1672303896.py:1: DtypeWarning: Columns (12,17,20) have mixed types. Specify dtype option on import or set low_memory=False.\n",
      "  df = pd.read_csv('./HN_P2C.csv')\n"
     ]
    }
   ],
   "source": [
    "df = pd.read_csv('./HN_P2C.csv')"
   ],
   "metadata": {
    "collapsed": false,
    "ExecuteTime": {
     "end_time": "2024-01-18T17:42:20.637831Z",
     "start_time": "2024-01-18T17:42:16.572422Z"
    }
   },
   "id": "41fecf45aba6afc9"
  },
  {
   "cell_type": "markdown",
   "source": [
    "The following cell creates a new DataFrame with just the rows that have 'Healthy' and 'Cancer' in CLabel"
   ],
   "metadata": {
    "collapsed": false
   },
   "id": "a4d53ae4fc172339"
  },
  {
   "cell_type": "code",
   "execution_count": 3,
   "outputs": [
    {
     "name": "stdout",
     "output_type": "stream",
     "text": [
      "Phasor_GH1_ch1    float64\n",
      "Phasor_SH1_ch1    float64\n",
      "Phasor_GH1_ch2    float64\n",
      "Phasor_SH1_ch2    float64\n",
      "Phasor_GH1_ch3    float64\n",
      "Phasor_SH1_ch3    float64\n",
      "Phasor_GH2_ch1    float64\n",
      "Phasor_SH2_ch1    float64\n",
      "Phasor_GH2_ch2    float64\n",
      "Phasor_SH2_ch2    float64\n",
      "Phasor_GH2_ch3    float64\n",
      "Phasor_SH2_ch3    float64\n",
      "Phasor_GH3_ch1    float64\n",
      "Phasor_SH3_ch1    float64\n",
      "Phasor_GH3_ch2    float64\n",
      "Phasor_SH3_ch2    float64\n",
      "Phasor_GH3_ch3    float64\n",
      "Phasor_SH3_ch3    float64\n",
      "dtype: object\n",
      "<class 'pandas.core.frame.DataFrame'>\n",
      "Index: 128459 entries, 1369 to 202269\n",
      "Columns: 101 entries, Case to CLabel\n",
      "dtypes: float64(71), int64(9), object(21)\n",
      "memory usage: 100.0+ MB\n"
     ]
    }
   ],
   "source": [
    "print(df.iloc[:, 77:95].dtypes)\n",
    "df_new = df[df['CLabel'].isin(['Healthy', 'Cancer'])]\n",
    "df_new.to_csv('df_new.csv', index=False)\n",
    "df_new.head()\n",
    "\n",
    "df = df_new\n",
    "df.info()"
   ],
   "metadata": {
    "collapsed": false,
    "ExecuteTime": {
     "end_time": "2024-01-18T17:42:27.854888Z",
     "start_time": "2024-01-18T17:42:20.635645Z"
    }
   },
   "id": "31441da868fdabb0"
  },
  {
   "cell_type": "markdown",
   "source": [
    "The following cell initializes the Cross-Validation and the XGBoost Classifier. "
   ],
   "metadata": {
    "collapsed": false
   },
   "id": "e2b0409db03f186e"
  },
  {
   "cell_type": "code",
   "execution_count": 4,
   "outputs": [
    {
     "data": {
      "text/plain": "Index(['Case', 'Run', 'Anatomy', 'ScanContext', 'Instrument', 'Setup',\n       'Diagnosis', 'HPVstatus', 'TobbacoStatus', 'OccultPrimary',\n       ...\n       'Phasor_GH3_ch2', 'Phasor_SH3_ch2', 'Phasor_GH3_ch3', 'Phasor_SH3_ch3',\n       'WLI_distance_fromMargin', 'WLI_frame_n', 'WLI_x_coord', 'WLI_y_coord',\n       'Label', 'CLabel'],\n      dtype='object', length=101)"
     },
     "execution_count": 4,
     "metadata": {},
     "output_type": "execute_result"
    }
   ],
   "source": [
    "df.columns"
   ],
   "metadata": {
    "collapsed": false,
    "ExecuteTime": {
     "end_time": "2024-01-18T17:42:27.859582Z",
     "start_time": "2024-01-18T17:42:27.856554Z"
    }
   },
   "id": "23afae4626bb6625"
  },
  {
   "cell_type": "code",
   "execution_count": 5,
   "outputs": [],
   "source": [
    "loo = LeaveOneOut()\n",
    "model = xgb.XGBClassifier()"
   ],
   "metadata": {
    "collapsed": false,
    "ExecuteTime": {
     "end_time": "2024-01-18T17:42:27.879605Z",
     "start_time": "2024-01-18T17:42:27.860940Z"
    }
   },
   "id": "e3b5ada7d5a4df05"
  },
  {
   "cell_type": "markdown",
   "source": [
    "Assign independent and dependent variables. \n",
    "Bring in the features we are interested in as a big array. \n",
    "No need for test and train sets as each point gets to be a test point once and a train point 99 times.\n",
    "\n",
    "Also, encode `Cancer` as 1 and `Healthy` as 0."
   ],
   "metadata": {
    "collapsed": false
   },
   "id": "5989bc76619bf134"
  },
  {
   "cell_type": "code",
   "execution_count": 6,
   "outputs": [],
   "source": [
    "features_of_interest = [\n",
    "    'lifet_avg_ch1', 'lifet_avg_ch2', 'lifet_avg_ch3', \n",
    "    'int_ratio_ch1', 'int_ratio_ch2', 'int_ratio_ch3',\n",
    "    'Laguerre_coeffs_1_ch1', 'Laguerre_coeffs_2_ch1', 'Laguerre_coeffs_3_ch1', \n",
    "    'Laguerre_coeffs_4_ch1', 'Laguerre_coeffs_5_ch1', 'Laguerre_coeffs_6_ch1', \n",
    "    'Laguerre_coeffs_7_ch1', 'Laguerre_coeffs_8_ch1', 'Laguerre_coeffs_9_ch1', \n",
    "    'Laguerre_coeffs_10_ch1', 'Laguerre_coeffs_11_ch1', 'Laguerre_coeffs_12_ch1',\n",
    "    'Laguerre_coeffs_1_ch2', 'Laguerre_coeffs_2_ch2', 'Laguerre_coeffs_3_ch2', \n",
    "    'Laguerre_coeffs_4_ch2', 'Laguerre_coeffs_5_ch2', 'Laguerre_coeffs_6_ch2', \n",
    "    'Laguerre_coeffs_7_ch2', 'Laguerre_coeffs_8_ch2', 'Laguerre_coeffs_9_ch2', \n",
    "    'Laguerre_coeffs_10_ch2', 'Laguerre_coeffs_11_ch2', 'Laguerre_coeffs_12_ch2',\n",
    "    'Laguerre_coeffs_1_ch3', 'Laguerre_coeffs_2_ch3', 'Laguerre_coeffs_3_ch3', \n",
    "    'Laguerre_coeffs_4_ch3', 'Laguerre_coeffs_5_ch3', 'Laguerre_coeffs_6_ch3', \n",
    "    'Laguerre_coeffs_7_ch3', 'Laguerre_coeffs_8_ch3', 'Laguerre_coeffs_9_ch3', \n",
    "    'Laguerre_coeffs_10_ch3', 'Laguerre_coeffs_11_ch3', 'Laguerre_coeffs_12_ch3'\n",
    "]\n",
    "\n",
    "X = df[features_of_interest]\n",
    "df['CLabel'] = df['CLabel'].map({'Cancer':1, 'Healthy':0})\n",
    "y = df['CLabel']"
   ],
   "metadata": {
    "collapsed": false,
    "ExecuteTime": {
     "end_time": "2024-01-18T17:42:27.912771Z",
     "start_time": "2024-01-18T17:42:27.865848Z"
    }
   },
   "id": "71468516e02b336c"
  },
  {
   "cell_type": "markdown",
   "source": [
    "**Plotting Function**"
   ],
   "metadata": {
    "collapsed": false
   },
   "id": "4dcd3f1180a474fb"
  },
  {
   "cell_type": "code",
   "execution_count": 13,
   "outputs": [],
   "source": [
    "def plot_roc_curve(y_true, y_scores, auc_score):\n",
    "    fpr, tpr, thresholds = roc_curve(y_true, y_scores)\n",
    "\n",
    "    plt.figure()\n",
    "    plt.plot(fpr, tpr, color='darkorange', lw=2, label='ROC curve (area = %0.2f)' % auc_score)\n",
    "    plt.plot([0, 1], [0, 1], color='navy', lw=2, linestyle='--')\n",
    "    plt.xlim([0.0, 1.0])\n",
    "    plt.ylim([0.0, 1.05])\n",
    "    plt.xlabel('False Positive Rate')\n",
    "    plt.ylabel('True Positive Rate')\n",
    "    plt.title('Receiver Operating Characteristic')\n",
    "    plt.legend(loc=\"lower right\")\n",
    "    plt.show()"
   ],
   "metadata": {
    "collapsed": false,
    "ExecuteTime": {
     "end_time": "2024-01-18T18:04:05.662780Z",
     "start_time": "2024-01-18T18:04:05.654156Z"
    }
   },
   "id": "356c056142d68a07"
  },
  {
   "cell_type": "markdown",
   "source": [
    "Create the loop for the LOO cross-validation.\n",
    "\n",
    "The LeaveOneOut object (loo) has functionality to appropriately split 'X' into train and test sets, where the test set only has 1 data point (patient). This is how each learning set is created. \n",
    "\n",
    "Results are then stored in the accuracies array, upon which further calculations are performed. \n",
    "\n",
    "The loop has 100 iterations, to simulate the first 100 patients in the V4 dataset. However, as of now, the loop, and the  `loo` cross-validation run on the HN_P2C data.\n",
    "\n",
    "The loop also jumps 500 rows every iteration so that it doesn't focus on a series of rows that are all `healthy` - a mask is used to achieve this"
   ],
   "metadata": {
    "collapsed": false
   },
   "id": "d83228ee0010ed93"
  },
  {
   "cell_type": "code",
   "execution_count": 15,
   "outputs": [
    {
     "data": {
      "text/plain": "<Figure size 640x480 with 1 Axes>",
      "image/png": "[encoded data removed]"
     },
     "metadata": {},
     "output_type": "display_data"
    },
    {
     "name": "stdout",
     "output_type": "stream",
     "text": [
      "Average Accuracy:  0.66\n",
      "Standard Deviation of Accuracy:  0.4737087712930805\n",
      "ROC AUC:  0.8078817733990148\n"
     ]
    }
   ],
   "source": [
    "step_size = 1000\n",
    "counter = 0\n",
    "\n",
    "# Store accuracy and predicted probabilities\n",
    "accuracies = []\n",
    "y_true_all = []  # Store all actual labels\n",
    "y_pred_proba_all = []  # Store all predicted probabilities\n",
    "\n",
    "# Loop in steps of 'step_size'\n",
    "for i in range(0, len(X), step_size):\n",
    "    mask = np.zeros(len(X), dtype=bool)\n",
    "    mask[i] = True  # Select the i-th element \n",
    "\n",
    "    # Split\n",
    "    X_train, X_test = X[~mask], X[mask]\n",
    "    y_train, y_test = y[~mask], y[mask]\n",
    "\n",
    "    # Fit on training sets\n",
    "    model.fit(X_train, y_train)\n",
    "\n",
    "    # Test\n",
    "    y_pred = model.predict(X_test) #class prediction for the test data\n",
    "    y_pred_proba = model.predict_proba(X_test)[:, 1] #probability prediction for the test data (prob. of the positive class)\n",
    "\n",
    "    # Calculate accuracies\n",
    "    accuracy = accuracy_score(y_test, y_pred)\n",
    "    accuracies.append(accuracy)\n",
    "\n",
    "    # Store actual labels and predicted probabilities for ROC AUC calculation\n",
    "    y_true_all.extend(y_test)\n",
    "    y_pred_proba_all.extend(y_pred_proba)\n",
    "    \n",
    "    counter += 1\n",
    "    if counter == 50:\n",
    "        break\n",
    "\n",
    "# Average and StdDev of accuracies\n",
    "average_accuracy = np.mean(accuracies)\n",
    "std_dev_accuracy = np.std(accuracies)\n",
    "\n",
    "# Calculate ROC AUC - using actual labels and predicted probabilities\n",
    "roc_auc = roc_auc_score(y_true_all, y_pred_proba_all)\n",
    "plot_roc_curve(y_true_all, y_pred_proba_all, roc_auc)\n",
    "\n",
    "print(\"Average Accuracy: \", average_accuracy)\n",
    "print(\"Standard Deviation of Accuracy: \", std_dev_accuracy)\n",
    "print(\"ROC AUC: \", roc_auc)"
   ],
   "metadata": {
    "collapsed": false,
    "ExecuteTime": {
     "end_time": "2024-01-18T18:07:16.118777Z",
     "start_time": "2024-01-18T18:06:22.828903Z"
    }
   },
   "id": "1e7ba68e80e225bd"
  },
  {
   "cell_type": "markdown",
   "source": [
    "**Mask Logic:**\n",
    "\n",
    "- used to selectively include or exclude data points from the training and test sets during each iteration of the loop. \n",
    "\n",
    "- `mask = np.zeros(len(X), dtype=bool)` is initialized as a boolean array of the same length as the dataset that is filled with false values (so no element is selected)\n",
    "\n",
    "- In every iteration, the `i-th` data point in the dataset is selected for testing, and since `i` increments by `step_size` (1000), this picks every 1000th data point\n",
    "\n",
    "- The mask is then used when splitting the data into training and test sets\n",
    "\n",
    "- `X[mask]` and `y[mask]` get the data points where `mask` is true. Therefore, `X_test` and `y_test` contain the 1000th data point. `X[~mask]` and `y[~mask]` get all the other points (where `mask` is false)\n",
    "\n",
    "\n",
    "**ROC Info:**\n",
    "\n",
    "- ROC Curve is a graphical representation that illustrates binary classification performance\n",
    "\n",
    "- It plots the TPR (sensitivity) against the FPR (1 - specificity) at different threshold settings\n",
    "\n",
    "- Each point on the ROC curve represents a sensitivity/specificity pair\n",
    "\n",
    "\n",
    "**AUC Info:**\n",
    "\n",
    "- AUC measures the area (like an integral) under the ROC Curve\n",
    "\n",
    "- The AUC value summarizes the performance of a classifier across different threshold values. A threshod value is a point in the 0.0 - 1.0 range where the class labels change (from `Healthy` to `Cancer` for example). Higher the AUC score the better.\n",
    "\n",
    "\n",
    "**Below is the code to calculate conditional ROC AUC values:**"
   ],
   "metadata": {
    "collapsed": false
   },
   "id": "6ab0e8a943d7351"
  },
  {
   "cell_type": "markdown",
   "source": [
    "- perform classification wrt nature of DS\n",
    "- partition DS wrt patients - 1000 steps can hit different patient data\n",
    "- filter by patient level\n",
    "\n",
    "- Interpretability project tasks\n",
    "- load pkl file need score and ground truth (Gt)\n",
    "\n",
    "- unpackp pkl, gets u model and dataset\n",
    "- pkl file has a XGBoost model, and run a shap\n",
    "\n",
    "1) understand why the model performed as it did (for good and bad cases)\n",
    "2) based on the findings, can we improve the model\n",
    "\n",
    "extract the features from the dataframe in the pkl file and run it through the model\n",
    "\n",
    "- no training\n",
    "- to begin "
   ],
   "metadata": {
    "collapsed": false
   },
   "id": "73c43b85128305f1"
  },
  {
   "cell_type": "code",
   "execution_count": 23,
   "outputs": [
    {
     "name": "stdout",
     "output_type": "stream",
     "text": [
      "Length of y_true_sampled: 200\n",
      "Length of y_pred_sampled: 200\n"
     ]
    },
    {
     "ename": "ValueError",
     "evalue": "Found array with 0 sample(s) (shape=(0,)) while a minimum of 1 is required.",
     "output_type": "error",
     "traceback": [
      "\u001B[0;31m---------------------------------------------------------------------------\u001B[0m",
      "\u001B[0;31mValueError\u001B[0m                                Traceback (most recent call last)",
      "Cell \u001B[0;32mIn[23], line 48\u001B[0m\n\u001B[1;32m     45\u001B[0m std_dev_accuracy_sampled \u001B[38;5;241m=\u001B[39m np\u001B[38;5;241m.\u001B[39mstd(accuracies_sampled)\n\u001B[1;32m     47\u001B[0m \u001B[38;5;66;03m# Calculate ROC AUC for the sampled dataset\u001B[39;00m\n\u001B[0;32m---> 48\u001B[0m roc_auc_sampled \u001B[38;5;241m=\u001B[39m \u001B[43mroc_auc_score\u001B[49m\u001B[43m(\u001B[49m\u001B[43my_true_sampled\u001B[49m\u001B[43m,\u001B[49m\u001B[43m \u001B[49m\u001B[43my_pred_proba_sampled\u001B[49m\u001B[43m)\u001B[49m\n\u001B[1;32m     49\u001B[0m plot_roc_curve(y_true_sampled, y_pred_proba_sampled, roc_auc_sampled)\n\u001B[1;32m     51\u001B[0m \u001B[38;5;28;01mif\u001B[39;00m \u001B[38;5;28mlen\u001B[39m(y_true_sampled) \u001B[38;5;241m!=\u001B[39m \u001B[38;5;28mlen\u001B[39m(y_pred_sampled):\n",
      "File \u001B[0;32m~/anaconda3/lib/python3.11/site-packages/sklearn/utils/_param_validation.py:214\u001B[0m, in \u001B[0;36mvalidate_params.<locals>.decorator.<locals>.wrapper\u001B[0;34m(*args, **kwargs)\u001B[0m\n\u001B[1;32m    208\u001B[0m \u001B[38;5;28;01mtry\u001B[39;00m:\n\u001B[1;32m    209\u001B[0m     \u001B[38;5;28;01mwith\u001B[39;00m config_context(\n\u001B[1;32m    210\u001B[0m         skip_parameter_validation\u001B[38;5;241m=\u001B[39m(\n\u001B[1;32m    211\u001B[0m             prefer_skip_nested_validation \u001B[38;5;129;01mor\u001B[39;00m global_skip_validation\n\u001B[1;32m    212\u001B[0m         )\n\u001B[1;32m    213\u001B[0m     ):\n\u001B[0;32m--> 214\u001B[0m         \u001B[38;5;28;01mreturn\u001B[39;00m \u001B[43mfunc\u001B[49m\u001B[43m(\u001B[49m\u001B[38;5;241;43m*\u001B[39;49m\u001B[43margs\u001B[49m\u001B[43m,\u001B[49m\u001B[43m \u001B[49m\u001B[38;5;241;43m*\u001B[39;49m\u001B[38;5;241;43m*\u001B[39;49m\u001B[43mkwargs\u001B[49m\u001B[43m)\u001B[49m\n\u001B[1;32m    215\u001B[0m \u001B[38;5;28;01mexcept\u001B[39;00m InvalidParameterError \u001B[38;5;28;01mas\u001B[39;00m e:\n\u001B[1;32m    216\u001B[0m     \u001B[38;5;66;03m# When the function is just a wrapper around an estimator, we allow\u001B[39;00m\n\u001B[1;32m    217\u001B[0m     \u001B[38;5;66;03m# the function to delegate validation to the estimator, but we replace\u001B[39;00m\n\u001B[1;32m    218\u001B[0m     \u001B[38;5;66;03m# the name of the estimator by the name of the function in the error\u001B[39;00m\n\u001B[1;32m    219\u001B[0m     \u001B[38;5;66;03m# message to avoid confusion.\u001B[39;00m\n\u001B[1;32m    220\u001B[0m     msg \u001B[38;5;241m=\u001B[39m re\u001B[38;5;241m.\u001B[39msub(\n\u001B[1;32m    221\u001B[0m         \u001B[38;5;124mr\u001B[39m\u001B[38;5;124m\"\u001B[39m\u001B[38;5;124mparameter of \u001B[39m\u001B[38;5;124m\\\u001B[39m\u001B[38;5;124mw+ must be\u001B[39m\u001B[38;5;124m\"\u001B[39m,\n\u001B[1;32m    222\u001B[0m         \u001B[38;5;124mf\u001B[39m\u001B[38;5;124m\"\u001B[39m\u001B[38;5;124mparameter of \u001B[39m\u001B[38;5;132;01m{\u001B[39;00mfunc\u001B[38;5;241m.\u001B[39m\u001B[38;5;18m__qualname__\u001B[39m\u001B[38;5;132;01m}\u001B[39;00m\u001B[38;5;124m must be\u001B[39m\u001B[38;5;124m\"\u001B[39m,\n\u001B[1;32m    223\u001B[0m         \u001B[38;5;28mstr\u001B[39m(e),\n\u001B[1;32m    224\u001B[0m     )\n",
      "File \u001B[0;32m~/anaconda3/lib/python3.11/site-packages/sklearn/metrics/_ranking.py:606\u001B[0m, in \u001B[0;36mroc_auc_score\u001B[0;34m(y_true, y_score, average, sample_weight, max_fpr, multi_class, labels)\u001B[0m\n\u001B[1;32m    604\u001B[0m y_type \u001B[38;5;241m=\u001B[39m type_of_target(y_true, input_name\u001B[38;5;241m=\u001B[39m\u001B[38;5;124m\"\u001B[39m\u001B[38;5;124my_true\u001B[39m\u001B[38;5;124m\"\u001B[39m)\n\u001B[1;32m    605\u001B[0m y_true \u001B[38;5;241m=\u001B[39m check_array(y_true, ensure_2d\u001B[38;5;241m=\u001B[39m\u001B[38;5;28;01mFalse\u001B[39;00m, dtype\u001B[38;5;241m=\u001B[39m\u001B[38;5;28;01mNone\u001B[39;00m)\n\u001B[0;32m--> 606\u001B[0m y_score \u001B[38;5;241m=\u001B[39m \u001B[43mcheck_array\u001B[49m\u001B[43m(\u001B[49m\u001B[43my_score\u001B[49m\u001B[43m,\u001B[49m\u001B[43m \u001B[49m\u001B[43mensure_2d\u001B[49m\u001B[38;5;241;43m=\u001B[39;49m\u001B[38;5;28;43;01mFalse\u001B[39;49;00m\u001B[43m)\u001B[49m\n\u001B[1;32m    608\u001B[0m \u001B[38;5;28;01mif\u001B[39;00m y_type \u001B[38;5;241m==\u001B[39m \u001B[38;5;124m\"\u001B[39m\u001B[38;5;124mmulticlass\u001B[39m\u001B[38;5;124m\"\u001B[39m \u001B[38;5;129;01mor\u001B[39;00m (\n\u001B[1;32m    609\u001B[0m     y_type \u001B[38;5;241m==\u001B[39m \u001B[38;5;124m\"\u001B[39m\u001B[38;5;124mbinary\u001B[39m\u001B[38;5;124m\"\u001B[39m \u001B[38;5;129;01mand\u001B[39;00m y_score\u001B[38;5;241m.\u001B[39mndim \u001B[38;5;241m==\u001B[39m \u001B[38;5;241m2\u001B[39m \u001B[38;5;129;01mand\u001B[39;00m y_score\u001B[38;5;241m.\u001B[39mshape[\u001B[38;5;241m1\u001B[39m] \u001B[38;5;241m>\u001B[39m \u001B[38;5;241m2\u001B[39m\n\u001B[1;32m    610\u001B[0m ):\n\u001B[1;32m    611\u001B[0m     \u001B[38;5;66;03m# do not support partial ROC computation for multiclass\u001B[39;00m\n\u001B[1;32m    612\u001B[0m     \u001B[38;5;28;01mif\u001B[39;00m max_fpr \u001B[38;5;129;01mis\u001B[39;00m \u001B[38;5;129;01mnot\u001B[39;00m \u001B[38;5;28;01mNone\u001B[39;00m \u001B[38;5;129;01mand\u001B[39;00m max_fpr \u001B[38;5;241m!=\u001B[39m \u001B[38;5;241m1.0\u001B[39m:\n",
      "File \u001B[0;32m~/anaconda3/lib/python3.11/site-packages/sklearn/utils/validation.py:967\u001B[0m, in \u001B[0;36mcheck_array\u001B[0;34m(array, accept_sparse, accept_large_sparse, dtype, order, copy, force_all_finite, ensure_2d, allow_nd, ensure_min_samples, ensure_min_features, estimator, input_name)\u001B[0m\n\u001B[1;32m    965\u001B[0m     n_samples \u001B[38;5;241m=\u001B[39m _num_samples(array)\n\u001B[1;32m    966\u001B[0m     \u001B[38;5;28;01mif\u001B[39;00m n_samples \u001B[38;5;241m<\u001B[39m ensure_min_samples:\n\u001B[0;32m--> 967\u001B[0m         \u001B[38;5;28;01mraise\u001B[39;00m \u001B[38;5;167;01mValueError\u001B[39;00m(\n\u001B[1;32m    968\u001B[0m             \u001B[38;5;124m\"\u001B[39m\u001B[38;5;124mFound array with \u001B[39m\u001B[38;5;132;01m%d\u001B[39;00m\u001B[38;5;124m sample(s) (shape=\u001B[39m\u001B[38;5;132;01m%s\u001B[39;00m\u001B[38;5;124m) while a\u001B[39m\u001B[38;5;124m\"\u001B[39m\n\u001B[1;32m    969\u001B[0m             \u001B[38;5;124m\"\u001B[39m\u001B[38;5;124m minimum of \u001B[39m\u001B[38;5;132;01m%d\u001B[39;00m\u001B[38;5;124m is required\u001B[39m\u001B[38;5;132;01m%s\u001B[39;00m\u001B[38;5;124m.\u001B[39m\u001B[38;5;124m\"\u001B[39m\n\u001B[1;32m    970\u001B[0m             \u001B[38;5;241m%\u001B[39m (n_samples, array\u001B[38;5;241m.\u001B[39mshape, ensure_min_samples, context)\n\u001B[1;32m    971\u001B[0m         )\n\u001B[1;32m    973\u001B[0m \u001B[38;5;28;01mif\u001B[39;00m ensure_min_features \u001B[38;5;241m>\u001B[39m \u001B[38;5;241m0\u001B[39m \u001B[38;5;129;01mand\u001B[39;00m array\u001B[38;5;241m.\u001B[39mndim \u001B[38;5;241m==\u001B[39m \u001B[38;5;241m2\u001B[39m:\n\u001B[1;32m    974\u001B[0m     n_features \u001B[38;5;241m=\u001B[39m array\u001B[38;5;241m.\u001B[39mshape[\u001B[38;5;241m1\u001B[39m]\n",
      "\u001B[0;31mValueError\u001B[0m: Found array with 0 sample(s) (shape=(0,)) while a minimum of 1 is required."
     ]
    }
   ],
   "source": [
    "#sample 100 points of 'Cancer' and 'Healthy'. Random state for reproducible sample\n",
    "df_cancer = df[df['CLabel'] == 1].sample(n=100, random_state=42)\n",
    "df_healthy = df[df['CLabel'] == 0].sample(n=100, random_state=42)\n",
    "\n",
    "#create a new dataframe (100 of each class)\n",
    "df_sampled = pd.concat([df_cancer, df_healthy])\n",
    "\n",
    "#Select the features and the target variables from df_sampled\n",
    "X_sampled = df_sampled[features_of_interest]\n",
    "y_sampled = df_sampled['CLabel']\n",
    "\n",
    "#initialize instances of XGBoost Classifier and LOO\n",
    "model_sampled = xgb.XGBClassifier()\n",
    "loo_sampled = LeaveOneOut()\n",
    "\n",
    "#data structures to hold calculated values for each iteration of the for loop\n",
    "accuracies_sampled = []\n",
    "y_true_sampled = []\n",
    "y_pred_proba_sampled = []\n",
    "y_pred_sampled = []\n",
    "\n",
    "\n",
    "#new for loop. Each iteration uses one sample for testing and the rest for training\n",
    "for train_index, test_index in loo_sampled.split(X_sampled):\\\n",
    "    #these lines split the features and target into training and test sets based on loo_sampled indices\n",
    "    X_train_sampled, X_test_sampled = X_sampled.iloc[train_index], X_sampled.iloc[test_index]\n",
    "    y_train_sampled, y_test_sampled = y_sampled.iloc[train_index], y_sampled.iloc[test_index]\n",
    "    \n",
    "    # Fit model on sampled dataset\n",
    "    model_sampled.fit(X_train_sampled, y_train_sampled)\n",
    "    \n",
    "    y_pred = model_sampled.predict(X_test_sampled)[0]\n",
    "    \n",
    "    accuracies_sampled.append(accuracy_score(y_test_sampled, [y_pred]))\n",
    "    \n",
    "    y_true_sampled.append(y_test_sampled.iloc[0])\n",
    "    y_pred_sampled.append(y_pred)  # This line should append a new prediction in each iteration\n",
    "\n",
    "# After the loop, check the lengths\n",
    "print(\"Length of y_true_sampled:\", len(y_true_sampled))\n",
    "print(\"Length of y_pred_sampled:\", len(y_pred_sampled))\n",
    "    \n",
    "# Calculate average accuracy and its standard deviation for the sampled dataset\n",
    "average_accuracy_sampled = np.mean(accuracies_sampled)\n",
    "std_dev_accuracy_sampled = np.std(accuracies_sampled)\n",
    "\n",
    "# Calculate ROC AUC for the sampled dataset\n",
    "roc_auc_sampled = roc_auc_score(y_true_sampled, y_pred_proba_sampled)\n",
    "plot_roc_curve(y_true_sampled, y_pred_proba_sampled, roc_auc_sampled)\n",
    "\n",
    "if len(y_true_sampled) != len(y_pred_sampled):\n",
    "    print(\"Mismatch found:\")\n",
    "    print(\"Length of y_true_sampled:\", len(y_true_sampled))\n",
    "    print(\"Length of y_pred_sampled:\", len(y_pred_sampled))\n",
    "    # Handle the mismatch appropriately\n",
    "    # For example, you can truncate the longer list or investigate why the mismatch occurs\n",
    "else:\n",
    "    # Proceed with the confusion matrix and further calculations\n",
    "    conf_matrix = confusion_matrix(y_true_sampled, y_pred_sampled)\n",
    "\n",
    "    TP = conf_matrix[1, 1]\n",
    "    TN = conf_matrix[0, 0]\n",
    "    FP = conf_matrix[0, 1]\n",
    "    FN = conf_matrix[1, 0]\n",
    "\n",
    "    sensitivity = TP / (TP + FN)\n",
    "    specificity = TN / (TN + FP)\n",
    "\n",
    "print(\"Sensitivity: \", sensitivity)\n",
    "print(\"Specificity: \", specificity)\n",
    "\n",
    "print(\"- Average Accuracy (Sampled): \", average_accuracy_sampled)\n",
    "print(\"- Standard Deviation of Accuracy (Sampled): \", std_dev_accuracy_sampled)\n",
    "print(\"- ROC AUC (Sampled): \", roc_auc_sampled)\n",
    "print(\"- Sensitivity: \", sensitivity)\n",
    "print(\"- Specificity: \", specificity)\n"
   ],
   "metadata": {
    "collapsed": false,
    "ExecuteTime": {
     "end_time": "2024-01-18T18:48:02.055517Z",
     "start_time": "2024-01-18T18:47:45.368391Z"
    }
   },
   "id": "f0d81f00db1a60b2"
  },
  {
   "cell_type": "code",
   "execution_count": null,
   "outputs": [],
   "source": [],
   "metadata": {
    "collapsed": false
   },
   "id": "5787f7831e870308"
  }
 ],
 "metadata": {
  "kernelspec": {
   "display_name": "Python 3",
   "language": "python",
   "name": "python3"
  },
  "language_info": {
   "codemirror_mode": {
    "name": "ipython",
    "version": 2
   },
   "file_extension": ".py",
   "mimetype": "text/x-python",
   "name": "python",
   "nbconvert_exporter": "python",
   "pygments_lexer": "ipython2",
   "version": "2.7.6"
  }
 },
 "nbformat": 4,
 "nbformat_minor": 5
}
