{
 "cells": [
  {
   "cell_type": "code",
   "execution_count": 1,
   "id": "initial_id",
   "metadata": {
    "collapsed": true,
    "ExecuteTime": {
     "end_time": "2024-03-08T08:32:16.103449Z",
     "start_time": "2024-03-08T08:32:13.736981Z"
    }
   },
   "outputs": [],
   "source": [
    "import pickle\n",
    "import tkinter as tk\n",
    "from tkinter import filedialog\n",
    "import pickle\n",
    "import shap\n",
    "import pandas as pd"
   ]
  },
  {
   "cell_type": "code",
   "execution_count": 2,
   "outputs": [
    {
     "name": "stderr",
     "output_type": "stream",
     "text": [
      "Columns (10,12,17,18,19,20,24) have mixed types. Specify dtype option on import or set low_memory=False.\n"
     ]
    }
   ],
   "source": [
    "p2c = pd.read_csv(\"../CSVs and Output Files/HN_P2C_20231207.csv\")"
   ],
   "metadata": {
    "collapsed": false,
    "ExecuteTime": {
     "end_time": "2024-03-08T08:36:44.672796Z",
     "start_time": "2024-03-08T08:35:59.650453Z"
    }
   },
   "id": "66cbe1296a9c4e79"
  },
  {
   "cell_type": "markdown",
   "source": [
    "**Prompt user to open a PKL file, then read it and get its contents**"
   ],
   "metadata": {
    "collapsed": false
   },
   "id": "273e933d0241333c"
  },
  {
   "cell_type": "code",
   "execution_count": 3,
   "outputs": [
    {
     "name": "stderr",
     "output_type": "stream",
     "text": [
      "2024-03-08 00:36:57.989 python[61146:8653623] +[CATransaction synchronize] called within transaction\n",
      "2024-03-08 00:37:02.379 python[61146:8653623] +[CATransaction synchronize] called within transaction\n",
      "2024-03-08 00:37:02.474 python[61146:8653623] +[CATransaction synchronize] called within transaction\n",
      "2024-03-08 00:37:02.574 python[61146:8653623] +[CATransaction synchronize] called within transaction\n",
      "2024-03-08 00:37:02.676 python[61146:8653623] +[CATransaction synchronize] called within transaction\n",
      "2024-03-08 00:37:02.798 python[61146:8653623] +[CATransaction synchronize] called within transaction\n",
      "2024-03-08 00:37:03.096 python[61146:8653623] +[CATransaction synchronize] called within transaction\n",
      "2024-03-08 00:37:03.199 python[61146:8653623] +[CATransaction synchronize] called within transaction\n",
      "2024-03-08 00:37:03.308 python[61146:8653623] +[CATransaction synchronize] called within transaction\n",
      "2024-03-08 00:37:05.648 python[61146:8653623] +[CATransaction synchronize] called within transaction\n",
      "2024-03-08 00:37:05.756 python[61146:8653623] +[CATransaction synchronize] called within transaction\n",
      "2024-03-08 00:37:05.858 python[61146:8653623] +[CATransaction synchronize] called within transaction\n",
      "2024-03-08 00:37:05.960 python[61146:8653623] +[CATransaction synchronize] called within transaction\n",
      "2024-03-08 00:37:06.063 python[61146:8653623] +[CATransaction synchronize] called within transaction\n",
      "2024-03-08 00:37:06.475 python[61146:8653623] +[CATransaction synchronize] called within transaction\n",
      "2024-03-08 00:37:06.592 python[61146:8653623] +[CATransaction synchronize] called within transaction\n",
      "2024-03-08 00:37:06.707 python[61146:8653623] +[CATransaction synchronize] called within transaction\n"
     ]
    },
    {
     "data": {
      "text/plain": "      Case  Run    snr_ch1    snr_ch2    snr_ch3  WLI_frame_n  WLI_x_coord  \\\n4434    13    3  40.576902  42.083242  35.869756           11          737   \n4435    13    3  48.358534  50.475945  45.011215           12          737   \n4436    13    3  49.534911  51.016437  45.690992           13          740   \n4437    13    3  48.438472  50.177821  44.766271           14          740   \n4438    13    3  47.929667  49.549209  44.324195           15          740   \n...    ...  ...        ...        ...        ...          ...          ...   \n7489    13    4  45.003905  43.996562  37.770316         3102          716   \n7490    13    4  45.432563  43.370631  36.237364         3103          695   \n7491    13    4  44.926646  43.469184  36.513192         3104          700   \n7492    13    4  45.177407  43.804813  37.199985         3105          694   \n7493    13    4  46.468372  45.309203  38.609962         3106          700   \n\n      WLI_y_coord     score  gt  \n4434          240  0.341159   1  \n4435          240  0.801060   1  \n4436          241  0.905885   1  \n4437          234  0.756397   1  \n4438          233  0.850476   1  \n...           ...       ...  ..  \n7489          149  0.188133   1  \n7490          119  0.302063   1  \n7491          136  0.052903   1  \n7492          142  0.063257   1  \n7493          136  0.140717   1  \n\n[3060 rows x 10 columns]",
      "text/html": "<div>\n<style scoped>\n    .dataframe tbody tr th:only-of-type {\n        vertical-align: middle;\n    }\n\n    .dataframe tbody tr th {\n        vertical-align: top;\n    }\n\n    .dataframe thead th {\n        text-align: right;\n    }\n</style>\n<table border=\"1\" class=\"dataframe\">\n  <thead>\n    <tr style=\"text-align: right;\">\n      <th></th>\n      <th>Case</th>\n      <th>Run</th>\n      <th>snr_ch1</th>\n      <th>snr_ch2</th>\n      <th>snr_ch3</th>\n      <th>WLI_frame_n</th>\n      <th>WLI_x_coord</th>\n      <th>WLI_y_coord</th>\n      <th>score</th>\n      <th>gt</th>\n    </tr>\n  </thead>\n  <tbody>\n    <tr>\n      <th>4434</th>\n      <td>13</td>\n      <td>3</td>\n      <td>40.576902</td>\n      <td>42.083242</td>\n      <td>35.869756</td>\n      <td>11</td>\n      <td>737</td>\n      <td>240</td>\n      <td>0.341159</td>\n      <td>1</td>\n    </tr>\n    <tr>\n      <th>4435</th>\n      <td>13</td>\n      <td>3</td>\n      <td>48.358534</td>\n      <td>50.475945</td>\n      <td>45.011215</td>\n      <td>12</td>\n      <td>737</td>\n      <td>240</td>\n      <td>0.801060</td>\n      <td>1</td>\n    </tr>\n    <tr>\n      <th>4436</th>\n      <td>13</td>\n      <td>3</td>\n      <td>49.534911</td>\n      <td>51.016437</td>\n      <td>45.690992</td>\n      <td>13</td>\n      <td>740</td>\n      <td>241</td>\n      <td>0.905885</td>\n      <td>1</td>\n    </tr>\n    <tr>\n      <th>4437</th>\n      <td>13</td>\n      <td>3</td>\n      <td>48.438472</td>\n      <td>50.177821</td>\n      <td>44.766271</td>\n      <td>14</td>\n      <td>740</td>\n      <td>234</td>\n      <td>0.756397</td>\n      <td>1</td>\n    </tr>\n    <tr>\n      <th>4438</th>\n      <td>13</td>\n      <td>3</td>\n      <td>47.929667</td>\n      <td>49.549209</td>\n      <td>44.324195</td>\n      <td>15</td>\n      <td>740</td>\n      <td>233</td>\n      <td>0.850476</td>\n      <td>1</td>\n    </tr>\n    <tr>\n      <th>...</th>\n      <td>...</td>\n      <td>...</td>\n      <td>...</td>\n      <td>...</td>\n      <td>...</td>\n      <td>...</td>\n      <td>...</td>\n      <td>...</td>\n      <td>...</td>\n      <td>...</td>\n    </tr>\n    <tr>\n      <th>7489</th>\n      <td>13</td>\n      <td>4</td>\n      <td>45.003905</td>\n      <td>43.996562</td>\n      <td>37.770316</td>\n      <td>3102</td>\n      <td>716</td>\n      <td>149</td>\n      <td>0.188133</td>\n      <td>1</td>\n    </tr>\n    <tr>\n      <th>7490</th>\n      <td>13</td>\n      <td>4</td>\n      <td>45.432563</td>\n      <td>43.370631</td>\n      <td>36.237364</td>\n      <td>3103</td>\n      <td>695</td>\n      <td>119</td>\n      <td>0.302063</td>\n      <td>1</td>\n    </tr>\n    <tr>\n      <th>7491</th>\n      <td>13</td>\n      <td>4</td>\n      <td>44.926646</td>\n      <td>43.469184</td>\n      <td>36.513192</td>\n      <td>3104</td>\n      <td>700</td>\n      <td>136</td>\n      <td>0.052903</td>\n      <td>1</td>\n    </tr>\n    <tr>\n      <th>7492</th>\n      <td>13</td>\n      <td>4</td>\n      <td>45.177407</td>\n      <td>43.804813</td>\n      <td>37.199985</td>\n      <td>3105</td>\n      <td>694</td>\n      <td>142</td>\n      <td>0.063257</td>\n      <td>1</td>\n    </tr>\n    <tr>\n      <th>7493</th>\n      <td>13</td>\n      <td>4</td>\n      <td>46.468372</td>\n      <td>45.309203</td>\n      <td>38.609962</td>\n      <td>3106</td>\n      <td>700</td>\n      <td>136</td>\n      <td>0.140717</td>\n      <td>1</td>\n    </tr>\n  </tbody>\n</table>\n<p>3060 rows × 10 columns</p>\n</div>"
     },
     "execution_count": 3,
     "metadata": {},
     "output_type": "execute_result"
    }
   ],
   "source": [
    "def load_pickle_file():\n",
    "    root = tk.Tk()\n",
    "    root.withdraw()\n",
    "    file_path = filedialog.askopenfilename(filetypes=[(\"Pickle files\", \"*.pkl\")])\n",
    "    \n",
    "    if file_path:\n",
    "        with open(file_path, 'rb') as file:\n",
    "            data = pickle.load(file)\n",
    "        root.destroy()  # Close the tkinter root window\n",
    "        return data\n",
    "    else:\n",
    "        print(\"No file selected.\")\n",
    "        root.destroy()  # Close the tkinter root window\n",
    "        return None\n",
    "    \n",
    "data = load_pickle_file()\n",
    "xgb_model = data['model']\n",
    "dataset = data['post_processing_data']\n",
    "dataset"
   ],
   "metadata": {
    "collapsed": false,
    "ExecuteTime": {
     "end_time": "2024-03-08T08:37:40.074060Z",
     "start_time": "2024-03-08T08:36:56.402398Z"
    }
   },
   "id": "e4689ef4ba73acb"
  },
  {
   "cell_type": "markdown",
   "source": [
    "**Prepare SHAP Explainer & Calculate SHAP Values**"
   ],
   "metadata": {
    "collapsed": false
   },
   "id": "c185906fe4a00d3e"
  },
  {
   "cell_type": "code",
   "execution_count": 4,
   "outputs": [
    {
     "name": "stderr",
     "output_type": "stream",
     "text": [
      "[00:37:51] WARNING: /Users/runner/work/xgboost/xgboost/src/c_api/c_api.cc:1240: Saving into deprecated binary model format, please consider using `json` or `ubj`. Model format will default to JSON in XGBoost 2.2 if not specified.\n"
     ]
    },
    {
     "ename": "ValueError",
     "evalue": "DataFrame.dtypes for data must be int, float, bool or category. When categorical type is supplied, The experimental DMatrix parameter`enable_categorical` must be set to `True`.  Invalid columns:Anatomy: object, ScanContext: object, Instrument: object, Setup: object, Diagnosis: object, HPVstatus: object, TobbacoStatus: object, OccultPrimary: object, TumorFocality: object, MetabolicTumorVolumeMTVFromPETCT: object, LateralityOfLymphNodesInvolved: object, PrimaryTumorpT: object, RegionalLymphNodespN: object, TNMDescriptors: object, SmokelessTobaccoUse: object, AlcoholUse: object, Surgeon: object, DataChannelsUsed: object, Sex: object, Ethnicity: object, Race: object",
     "output_type": "error",
     "traceback": [
      "\u001B[0;31m---------------------------------------------------------------------------\u001B[0m",
      "\u001B[0;31mValueError\u001B[0m                                Traceback (most recent call last)",
      "Cell \u001B[0;32mIn[4], line 2\u001B[0m\n\u001B[1;32m      1\u001B[0m explainer \u001B[38;5;241m=\u001B[39m shap\u001B[38;5;241m.\u001B[39mTreeExplainer(xgb_model)\n\u001B[0;32m----> 2\u001B[0m shap_values \u001B[38;5;241m=\u001B[39m \u001B[43mexplainer\u001B[49m\u001B[38;5;241;43m.\u001B[39;49m\u001B[43mshap_values\u001B[49m\u001B[43m(\u001B[49m\u001B[43mp2c\u001B[49m\u001B[43m)\u001B[49m\n\u001B[1;32m      3\u001B[0m shap\u001B[38;5;241m.\u001B[39msummary_plot(shap_values, p2c)\n",
      "File \u001B[0;32m~/anaconda3/lib/python3.11/site-packages/shap/explainers/_tree.py:398\u001B[0m, in \u001B[0;36mTreeExplainer.shap_values\u001B[0;34m(self, X, y, tree_limit, approximate, check_additivity, from_call)\u001B[0m\n\u001B[1;32m    395\u001B[0m \u001B[38;5;28;01mif\u001B[39;00m \u001B[38;5;129;01mnot\u001B[39;00m \u001B[38;5;28misinstance\u001B[39m(X, xgboost\u001B[38;5;241m.\u001B[39mcore\u001B[38;5;241m.\u001B[39mDMatrix):\n\u001B[1;32m    396\u001B[0m     \u001B[38;5;66;03m# Retrieve any DMatrix properties if they have been set on the TreeEnsemble Class\u001B[39;00m\n\u001B[1;32m    397\u001B[0m     dmatrix_props \u001B[38;5;241m=\u001B[39m \u001B[38;5;28mgetattr\u001B[39m(\u001B[38;5;28mself\u001B[39m\u001B[38;5;241m.\u001B[39mmodel, \u001B[38;5;124m\"\u001B[39m\u001B[38;5;124m_xgb_dmatrix_props\u001B[39m\u001B[38;5;124m\"\u001B[39m, {})\n\u001B[0;32m--> 398\u001B[0m     X \u001B[38;5;241m=\u001B[39m \u001B[43mxgboost\u001B[49m\u001B[38;5;241;43m.\u001B[39;49m\u001B[43mDMatrix\u001B[49m\u001B[43m(\u001B[49m\u001B[43mX\u001B[49m\u001B[43m,\u001B[49m\u001B[43m \u001B[49m\u001B[38;5;241;43m*\u001B[39;49m\u001B[38;5;241;43m*\u001B[39;49m\u001B[43mdmatrix_props\u001B[49m\u001B[43m)\u001B[49m\n\u001B[1;32m    399\u001B[0m \u001B[38;5;28;01mif\u001B[39;00m tree_limit \u001B[38;5;241m==\u001B[39m \u001B[38;5;241m-\u001B[39m\u001B[38;5;241m1\u001B[39m:\n\u001B[1;32m    400\u001B[0m     tree_limit \u001B[38;5;241m=\u001B[39m \u001B[38;5;241m0\u001B[39m\n",
      "File \u001B[0;32m~/anaconda3/lib/python3.11/site-packages/xgboost/core.py:730\u001B[0m, in \u001B[0;36mrequire_keyword_args.<locals>.throw_if.<locals>.inner_f\u001B[0;34m(*args, **kwargs)\u001B[0m\n\u001B[1;32m    728\u001B[0m \u001B[38;5;28;01mfor\u001B[39;00m k, arg \u001B[38;5;129;01min\u001B[39;00m \u001B[38;5;28mzip\u001B[39m(sig\u001B[38;5;241m.\u001B[39mparameters, args):\n\u001B[1;32m    729\u001B[0m     kwargs[k] \u001B[38;5;241m=\u001B[39m arg\n\u001B[0;32m--> 730\u001B[0m \u001B[38;5;28;01mreturn\u001B[39;00m \u001B[43mfunc\u001B[49m\u001B[43m(\u001B[49m\u001B[38;5;241;43m*\u001B[39;49m\u001B[38;5;241;43m*\u001B[39;49m\u001B[43mkwargs\u001B[49m\u001B[43m)\u001B[49m\n",
      "File \u001B[0;32m~/anaconda3/lib/python3.11/site-packages/xgboost/core.py:857\u001B[0m, in \u001B[0;36mDMatrix.__init__\u001B[0;34m(self, data, label, weight, base_margin, missing, silent, feature_names, feature_types, nthread, group, qid, label_lower_bound, label_upper_bound, feature_weights, enable_categorical, data_split_mode)\u001B[0m\n\u001B[1;32m    854\u001B[0m     \u001B[38;5;28;01massert\u001B[39;00m \u001B[38;5;28mself\u001B[39m\u001B[38;5;241m.\u001B[39mhandle \u001B[38;5;129;01mis\u001B[39;00m \u001B[38;5;129;01mnot\u001B[39;00m \u001B[38;5;28;01mNone\u001B[39;00m\n\u001B[1;32m    855\u001B[0m     \u001B[38;5;28;01mreturn\u001B[39;00m\n\u001B[0;32m--> 857\u001B[0m handle, feature_names, feature_types \u001B[38;5;241m=\u001B[39m \u001B[43mdispatch_data_backend\u001B[49m\u001B[43m(\u001B[49m\n\u001B[1;32m    858\u001B[0m \u001B[43m    \u001B[49m\u001B[43mdata\u001B[49m\u001B[43m,\u001B[49m\n\u001B[1;32m    859\u001B[0m \u001B[43m    \u001B[49m\u001B[43mmissing\u001B[49m\u001B[38;5;241;43m=\u001B[39;49m\u001B[38;5;28;43mself\u001B[39;49m\u001B[38;5;241;43m.\u001B[39;49m\u001B[43mmissing\u001B[49m\u001B[43m,\u001B[49m\n\u001B[1;32m    860\u001B[0m \u001B[43m    \u001B[49m\u001B[43mthreads\u001B[49m\u001B[38;5;241;43m=\u001B[39;49m\u001B[38;5;28;43mself\u001B[39;49m\u001B[38;5;241;43m.\u001B[39;49m\u001B[43mnthread\u001B[49m\u001B[43m,\u001B[49m\n\u001B[1;32m    861\u001B[0m \u001B[43m    \u001B[49m\u001B[43mfeature_names\u001B[49m\u001B[38;5;241;43m=\u001B[39;49m\u001B[43mfeature_names\u001B[49m\u001B[43m,\u001B[49m\n\u001B[1;32m    862\u001B[0m \u001B[43m    \u001B[49m\u001B[43mfeature_types\u001B[49m\u001B[38;5;241;43m=\u001B[39;49m\u001B[43mfeature_types\u001B[49m\u001B[43m,\u001B[49m\n\u001B[1;32m    863\u001B[0m \u001B[43m    \u001B[49m\u001B[43menable_categorical\u001B[49m\u001B[38;5;241;43m=\u001B[39;49m\u001B[43menable_categorical\u001B[49m\u001B[43m,\u001B[49m\n\u001B[1;32m    864\u001B[0m \u001B[43m    \u001B[49m\u001B[43mdata_split_mode\u001B[49m\u001B[38;5;241;43m=\u001B[39;49m\u001B[43mdata_split_mode\u001B[49m\u001B[43m,\u001B[49m\n\u001B[1;32m    865\u001B[0m \u001B[43m\u001B[49m\u001B[43m)\u001B[49m\n\u001B[1;32m    866\u001B[0m \u001B[38;5;28;01massert\u001B[39;00m handle \u001B[38;5;129;01mis\u001B[39;00m \u001B[38;5;129;01mnot\u001B[39;00m \u001B[38;5;28;01mNone\u001B[39;00m\n\u001B[1;32m    867\u001B[0m \u001B[38;5;28mself\u001B[39m\u001B[38;5;241m.\u001B[39mhandle \u001B[38;5;241m=\u001B[39m handle\n",
      "File \u001B[0;32m~/anaconda3/lib/python3.11/site-packages/xgboost/data.py:1089\u001B[0m, in \u001B[0;36mdispatch_data_backend\u001B[0;34m(data, missing, threads, feature_names, feature_types, enable_categorical, data_split_mode)\u001B[0m\n\u001B[1;32m   1087\u001B[0m     data \u001B[38;5;241m=\u001B[39m pd\u001B[38;5;241m.\u001B[39mDataFrame(data)\n\u001B[1;32m   1088\u001B[0m \u001B[38;5;28;01mif\u001B[39;00m _is_pandas_df(data):\n\u001B[0;32m-> 1089\u001B[0m     \u001B[38;5;28;01mreturn\u001B[39;00m \u001B[43m_from_pandas_df\u001B[49m\u001B[43m(\u001B[49m\n\u001B[1;32m   1090\u001B[0m \u001B[43m        \u001B[49m\u001B[43mdata\u001B[49m\u001B[43m,\u001B[49m\u001B[43m \u001B[49m\u001B[43menable_categorical\u001B[49m\u001B[43m,\u001B[49m\u001B[43m \u001B[49m\u001B[43mmissing\u001B[49m\u001B[43m,\u001B[49m\u001B[43m \u001B[49m\u001B[43mthreads\u001B[49m\u001B[43m,\u001B[49m\u001B[43m \u001B[49m\u001B[43mfeature_names\u001B[49m\u001B[43m,\u001B[49m\u001B[43m \u001B[49m\u001B[43mfeature_types\u001B[49m\n\u001B[1;32m   1091\u001B[0m \u001B[43m    \u001B[49m\u001B[43m)\u001B[49m\n\u001B[1;32m   1092\u001B[0m \u001B[38;5;28;01mif\u001B[39;00m _is_cudf_df(data) \u001B[38;5;129;01mor\u001B[39;00m _is_cudf_ser(data):\n\u001B[1;32m   1093\u001B[0m     \u001B[38;5;28;01mreturn\u001B[39;00m _from_cudf_df(\n\u001B[1;32m   1094\u001B[0m         data, missing, threads, feature_names, feature_types, enable_categorical\n\u001B[1;32m   1095\u001B[0m     )\n",
      "File \u001B[0;32m~/anaconda3/lib/python3.11/site-packages/xgboost/data.py:522\u001B[0m, in \u001B[0;36m_from_pandas_df\u001B[0;34m(data, enable_categorical, missing, nthread, feature_names, feature_types)\u001B[0m\n\u001B[1;32m    514\u001B[0m \u001B[38;5;28;01mdef\u001B[39;00m \u001B[38;5;21m_from_pandas_df\u001B[39m(\n\u001B[1;32m    515\u001B[0m     data: DataFrame,\n\u001B[1;32m    516\u001B[0m     enable_categorical: \u001B[38;5;28mbool\u001B[39m,\n\u001B[0;32m   (...)\u001B[0m\n\u001B[1;32m    520\u001B[0m     feature_types: Optional[FeatureTypes],\n\u001B[1;32m    521\u001B[0m ) \u001B[38;5;241m-\u001B[39m\u001B[38;5;241m>\u001B[39m DispatchedDataBackendReturnType:\n\u001B[0;32m--> 522\u001B[0m     data, feature_names, feature_types \u001B[38;5;241m=\u001B[39m \u001B[43m_transform_pandas_df\u001B[49m\u001B[43m(\u001B[49m\n\u001B[1;32m    523\u001B[0m \u001B[43m        \u001B[49m\u001B[43mdata\u001B[49m\u001B[43m,\u001B[49m\u001B[43m \u001B[49m\u001B[43menable_categorical\u001B[49m\u001B[43m,\u001B[49m\u001B[43m \u001B[49m\u001B[43mfeature_names\u001B[49m\u001B[43m,\u001B[49m\u001B[43m \u001B[49m\u001B[43mfeature_types\u001B[49m\n\u001B[1;32m    524\u001B[0m \u001B[43m    \u001B[49m\u001B[43m)\u001B[49m\n\u001B[1;32m    525\u001B[0m     \u001B[38;5;28;01mreturn\u001B[39;00m _from_numpy_array(data, missing, nthread, feature_names, feature_types)\n",
      "File \u001B[0;32m~/anaconda3/lib/python3.11/site-packages/xgboost/data.py:490\u001B[0m, in \u001B[0;36m_transform_pandas_df\u001B[0;34m(data, enable_categorical, feature_names, feature_types, meta, meta_type)\u001B[0m\n\u001B[1;32m    483\u001B[0m \u001B[38;5;28;01mfor\u001B[39;00m dtype \u001B[38;5;129;01min\u001B[39;00m data\u001B[38;5;241m.\u001B[39mdtypes:\n\u001B[1;32m    484\u001B[0m     \u001B[38;5;28;01mif\u001B[39;00m \u001B[38;5;129;01mnot\u001B[39;00m (\n\u001B[1;32m    485\u001B[0m         (dtype\u001B[38;5;241m.\u001B[39mname \u001B[38;5;129;01min\u001B[39;00m _pandas_dtype_mapper)\n\u001B[1;32m    486\u001B[0m         \u001B[38;5;129;01mor\u001B[39;00m is_pd_sparse_dtype(dtype)\n\u001B[1;32m    487\u001B[0m         \u001B[38;5;129;01mor\u001B[39;00m (is_pd_cat_dtype(dtype) \u001B[38;5;129;01mand\u001B[39;00m enable_categorical)\n\u001B[1;32m    488\u001B[0m         \u001B[38;5;129;01mor\u001B[39;00m is_pa_ext_dtype(dtype)\n\u001B[1;32m    489\u001B[0m     ):\n\u001B[0;32m--> 490\u001B[0m         \u001B[43m_invalid_dataframe_dtype\u001B[49m\u001B[43m(\u001B[49m\u001B[43mdata\u001B[49m\u001B[43m)\u001B[49m\n\u001B[1;32m    491\u001B[0m     \u001B[38;5;28;01mif\u001B[39;00m is_pa_ext_dtype(dtype):\n\u001B[1;32m    492\u001B[0m         pyarrow_extension \u001B[38;5;241m=\u001B[39m \u001B[38;5;28;01mTrue\u001B[39;00m\n",
      "File \u001B[0;32m~/anaconda3/lib/python3.11/site-packages/xgboost/data.py:308\u001B[0m, in \u001B[0;36m_invalid_dataframe_dtype\u001B[0;34m(data)\u001B[0m\n\u001B[1;32m    306\u001B[0m type_err \u001B[38;5;241m=\u001B[39m \u001B[38;5;124m\"\u001B[39m\u001B[38;5;124mDataFrame.dtypes for data must be int, float, bool or category.\u001B[39m\u001B[38;5;124m\"\u001B[39m\n\u001B[1;32m    307\u001B[0m msg \u001B[38;5;241m=\u001B[39m \u001B[38;5;124mf\u001B[39m\u001B[38;5;124m\"\"\"\u001B[39m\u001B[38;5;132;01m{\u001B[39;00mtype_err\u001B[38;5;132;01m}\u001B[39;00m\u001B[38;5;124m \u001B[39m\u001B[38;5;132;01m{\u001B[39;00m_ENABLE_CAT_ERR\u001B[38;5;132;01m}\u001B[39;00m\u001B[38;5;124m \u001B[39m\u001B[38;5;132;01m{\u001B[39;00merr\u001B[38;5;132;01m}\u001B[39;00m\u001B[38;5;124m\"\"\"\u001B[39m\n\u001B[0;32m--> 308\u001B[0m \u001B[38;5;28;01mraise\u001B[39;00m \u001B[38;5;167;01mValueError\u001B[39;00m(msg)\n",
      "\u001B[0;31mValueError\u001B[0m: DataFrame.dtypes for data must be int, float, bool or category. When categorical type is supplied, The experimental DMatrix parameter`enable_categorical` must be set to `True`.  Invalid columns:Anatomy: object, ScanContext: object, Instrument: object, Setup: object, Diagnosis: object, HPVstatus: object, TobbacoStatus: object, OccultPrimary: object, TumorFocality: object, MetabolicTumorVolumeMTVFromPETCT: object, LateralityOfLymphNodesInvolved: object, PrimaryTumorpT: object, RegionalLymphNodespN: object, TNMDescriptors: object, SmokelessTobaccoUse: object, AlcoholUse: object, Surgeon: object, DataChannelsUsed: object, Sex: object, Ethnicity: object, Race: object"
     ]
    }
   ],
   "source": [
    "explainer = shap.TreeExplainer(xgb_model)\n",
    "shap_values = explainer.shap_values(p2c)\n",
    "shap.summary_plot(shap_values, p2c)"
   ],
   "metadata": {
    "collapsed": false,
    "ExecuteTime": {
     "end_time": "2024-03-08T08:37:52.302588Z",
     "start_time": "2024-03-08T08:37:51.724448Z"
    }
   },
   "id": "9d0d54e34ebe75e5"
  },
  {
   "cell_type": "code",
   "execution_count": null,
   "outputs": [],
   "source": [],
   "metadata": {
    "collapsed": false
   },
   "id": "34f81b7b75dd9e1b"
  }
 ],
 "metadata": {
  "kernelspec": {
   "display_name": "Python 3",
   "language": "python",
   "name": "python3"
  },
  "language_info": {
   "codemirror_mode": {
    "name": "ipython",
    "version": 2
   },
   "file_extension": ".py",
   "mimetype": "text/x-python",
   "name": "python",
   "nbconvert_exporter": "python",
   "pygments_lexer": "ipython2",
   "version": "2.7.6"
  }
 },
 "nbformat": 4,
 "nbformat_minor": 5
}
