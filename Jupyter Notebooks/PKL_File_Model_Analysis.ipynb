{
 "cells": [
  {
   "cell_type": "code",
   "execution_count": 11,
   "id": "initial_id",
   "metadata": {
    "collapsed": true,
    "ExecuteTime": {
     "end_time": "2024-03-11T19:43:17.354806Z",
     "start_time": "2024-03-11T19:43:17.353951Z"
    }
   },
   "outputs": [],
   "source": [
    "import pickle\n",
    "import shap\n",
    "import os\n",
    "import pandas as pd\n",
    "from Fast_BEX import optimized_bex\n",
    "# from Bex import bex\n",
    "import xgboost as xgb\n",
    "import matplotlib.pyplot as plt\n",
    "import tkinter as tk\n",
    "from tkinter import filedialog\n",
    "import numpy as np"
   ]
  },
  {
   "cell_type": "code",
   "execution_count": 6,
   "outputs": [
    {
     "name": "stderr",
     "output_type": "stream",
     "text": [
      "/var/folders/vd/fl4jxzz5645dmfqvhypcn1wm0000gn/T/ipykernel_2237/2055828598.py:2: DtypeWarning: Columns (10,12,17,18,19,20,24) have mixed types. Specify dtype option on import or set low_memory=False.\n",
      "  df = pd.read_csv(\"/Users/mohamedhassan/Library/CloudStorage/OneDrive-UniversityofCalifornia,Davis/HN Model Development/Data/HN_P2C_20231207.csv\")\n"
     ]
    }
   ],
   "source": [
    "# df = pd.read_csv(\"../CSVs and Output Files/HN_P2C_20231207.csv\")\n",
    "df = pd.read_csv(\"/Users/mohamedhassan/Library/CloudStorage/OneDrive-UniversityofCalifornia,Davis/HN Model Development/Data/HN_P2C_20231207.csv\")\n",
    "cwd = os.getcwd()"
   ],
   "metadata": {
    "collapsed": false,
    "ExecuteTime": {
     "end_time": "2024-03-11T19:30:17.090189Z",
     "start_time": "2024-03-11T19:29:44.028936Z"
    }
   },
   "id": "66cbe1296a9c4e79"
  },
  {
   "cell_type": "code",
   "execution_count": 4,
   "outputs": [
    {
     "data": {
      "text/plain": "array([  2,   4,   5,   6,   7,   8,  10,  12,  13,  14,  15,  16,  17,\n        18,  19,  20,  21,  22,  23,  24,  25,  26,  27,  28,  29,  30,\n        31,  32,  33,  34,  35,  36,  37,  38,  39,  41,  42,  43,  44,\n        45,  46,  47,  48,  49,  50,  51,  52,  53,  54,  55,  56,  57,\n        58,  59,  60,  61,  62,  63,  64,  65,  66,  67,  68,  69,  70,\n        71,  72,  73,  74,  75,  76,  77,  78,  79,  80,  81,  82,  83,\n        84,  85,  86,  87,  88,  89,  90,  91,  92,  93,  94,  95,  96,\n        97,  98,  99, 100, 101, 102, 103, 104, 105, 106, 107, 108, 109,\n       110, 111, 112, 113, 114, 115, 116, 117, 118, 119, 120, 121, 122,\n       123, 124, 125, 127, 128, 129, 130, 131, 132, 133, 134, 135, 136,\n       137, 138, 139, 140, 141, 142, 143, 144, 145, 146, 147, 148, 149,\n       150, 152, 153, 155, 156, 157, 158, 159, 160, 161, 162, 163, 164,\n       165, 166, 167, 168, 169, 170, 171, 172, 173, 174, 175, 176, 177,\n       178, 179])"
     },
     "execution_count": 4,
     "metadata": {},
     "output_type": "execute_result"
    }
   ],
   "source": [
    "df['Case'].unique()"
   ],
   "metadata": {
    "collapsed": false,
    "ExecuteTime": {
     "end_time": "2024-03-11T07:16:57.500763Z",
     "start_time": "2024-03-11T07:16:57.460Z"
    }
   },
   "id": "3f4ecab04a583ad7"
  },
  {
   "cell_type": "code",
   "execution_count": 7,
   "outputs": [],
   "source": [
    "df = df[df['ScanContext'] == 'In Vivo']\n",
    "\n",
    "# %% SNR and lifetime filtering\n",
    "index = df[((df['snr_ch1'] < 30) & (df['Instrument'] == 'V4')) |\n",
    "           ((df['snr_ch2'] < 30) & (df['Instrument'] == 'V4')) |\n",
    "           ((df['snr_ch3'] < 30) & (df['Instrument'] == 'V4'))].index\n",
    "df.drop(index, inplace=True)\n",
    "index = df[((df['snr_ch1'] < 50) & (df['Instrument'] == 'FLImBrush')) |\n",
    "           ((df['snr_ch2'] < 50) & (df['Instrument'] == 'FLImBrush')) |\n",
    "           ((df['snr_ch3'] < 50) & (df['Instrument'] == 'FLImBrush'))].index\n",
    "df.drop(index, inplace=True)\n",
    "\n",
    "# R_data((R_data.lifet_avg_ch1 > 10 | R_data.lifet_avg_ch1 < 2),:) = [];\n",
    "index = df[((df['lifet_avg_ch1'] > 16) | (df['lifet_avg_ch1'] < 1)) |\n",
    "           ((df['lifet_avg_ch2'] > 16) | (df['lifet_avg_ch2'] < 1)) |\n",
    "           ((df['lifet_avg_ch3'] > 16) | (df['lifet_avg_ch3'] < 1))].index\n",
    "df.drop(index, inplace=True)\n",
    "\n",
    "# %% For our current analysis we remove all V4 data and no channel 4 data\n",
    "index = df[df['Instrument'] == 'FLImBrush'].index\n",
    "df.drop(index, inplace=True)"
   ],
   "metadata": {
    "collapsed": false,
    "ExecuteTime": {
     "end_time": "2024-03-11T19:30:47.674879Z",
     "start_time": "2024-03-11T19:30:45.510345Z"
    }
   },
   "id": "50537df7c4fb0bc7"
  },
  {
   "cell_type": "markdown",
   "source": [
    "In the following code, I changed (in line 3)\n",
    "`selected_columns = df.columns[df.columns.str.contains(pattern)]` to\n",
    "`selected_columns = df.columns[df.columns.str.match(pattern)]`\n",
    "\n",
    "and same edits in line 28 - any neg effects?\n"
   ],
   "metadata": {
    "collapsed": false
   },
   "id": "cd2fba1adf5f6f5f"
  },
  {
   "cell_type": "code",
   "execution_count": 8,
   "outputs": [
    {
     "name": "stderr",
     "output_type": "stream",
     "text": [
      "/var/folders/vd/fl4jxzz5645dmfqvhypcn1wm0000gn/T/ipykernel_2237/3490899123.py:3: UserWarning: This pattern is interpreted as a regular expression, and has match groups. To actually get the groups, use str.extract.\n",
      "  selected_columns = df.columns[df.columns.str.contains(pattern)]\n"
     ]
    }
   ],
   "source": [
    "# Extract columns based on specific patterns\n",
    "pattern = r'(Case|Run|snr_|lifet_avg_|spec_int_|int_ratio_|Laguerre_coeffs_|Phasor_GH|Phasor_SH|WLI_)'\n",
    "selected_columns = df.columns[df.columns.str.contains(pattern)]\n",
    "\n",
    "# Add the \"Label\" column, which doesn't fit the patterns\n",
    "selected_columns = selected_columns.insert(len(selected_columns), 'Label')\n",
    "\n",
    "subset_df = df[selected_columns]\n",
    "subset_df = subset_df.dropna()\n",
    "\n",
    "subset_df = subset_df[subset_df['Label'] != 0]\n",
    "# Replace values in the 'Label' column\n",
    "subset_df['Label'] = subset_df['Label'].replace([1, 2, 18, 20, 25, 27, 29, 36, 37], 0)\n",
    "subset_df['Label'] = subset_df['Label'].replace([5, 6, 7, 8, 9, 10, 11, 12, 13, 14, 15, 16, 17, 22, 24, 28, 30, 33], 1)\n",
    "\n",
    "# Remove rows where 'Label' is not 0 or 1\n",
    "subset_df = subset_df[subset_df['Label'].isin([0, 1])]"
   ],
   "metadata": {
    "collapsed": false,
    "ExecuteTime": {
     "end_time": "2024-03-11T19:32:02.530241Z",
     "start_time": "2024-03-11T19:32:02.473199Z"
    }
   },
   "id": "43588ae528fbcabc"
  },
  {
   "cell_type": "code",
   "execution_count": 9,
   "outputs": [
    {
     "name": "stderr",
     "output_type": "stream",
     "text": [
      "/var/folders/vd/fl4jxzz5645dmfqvhypcn1wm0000gn/T/ipykernel_2237/1873497049.py:10: UserWarning: This pattern is interpreted as a regular expression, and has match groups. To actually get the groups, use str.extract.\n",
      "  selected_columns = df.columns[df.columns.str.contains(pattern)]\n"
     ]
    },
    {
     "data": {
      "text/plain": "   Case  Run  lifet_avg_ch1  lifet_avg_ch2  lifet_avg_ch3  spec_int_ch1  \\\n0     2   10       3.677834       4.372698       4.673487      0.100970   \n1     2   10       3.725055       4.311057       4.678097      0.085447   \n2     2   10       3.809186       4.337621       4.262062      0.059230   \n3     2   10       3.822145       4.295335       3.905487      0.053078   \n4     2   10       3.719731       4.497713       4.277077      0.059476   \n\n   spec_int_ch2  spec_int_ch3  int_ratio_ch1  int_ratio_ch2  ...  \\\n0      0.105687      0.056391       0.383847       0.401777  ...   \n1      0.083083      0.045521       0.399188       0.388146  ...   \n2      0.059800      0.032438       0.391038       0.394803  ...   \n3      0.053375      0.029710       0.389809       0.391994  ...   \n4      0.064631      0.036502       0.370316       0.402411  ...   \n\n   Laguerre_coeffs_7_ch3  Laguerre_coeffs_8_ch3  Laguerre_coeffs_9_ch3  \\\n0               0.011809              -0.012513               0.004941   \n1               0.037673               0.003595               0.011348   \n2               0.003650              -0.004216              -0.001125   \n3               0.000380              -0.006706              -0.001397   \n4               0.002631              -0.009467              -0.000464   \n\n   Laguerre_coeffs_10_ch3  Laguerre_coeffs_11_ch3  Laguerre_coeffs_12_ch3  \\\n0               -0.002295                0.001451               -0.000368   \n1                0.000742                0.001862               -0.000485   \n2               -0.000643               -0.000201               -0.000680   \n3               -0.002114                0.000458               -0.000604   \n4               -0.000858                0.000830                0.000674   \n\n   WLI_frame_n  WLI_x_coord  WLI_y_coord  Label  \n0            3          815          644      0  \n1            4          813          642      0  \n2            5          814          626      0  \n3            6          814          626      0  \n4            7          818          611      0  \n\n[5 rows x 54 columns]",
      "text/html": "<div>\n<style scoped>\n    .dataframe tbody tr th:only-of-type {\n        vertical-align: middle;\n    }\n\n    .dataframe tbody tr th {\n        vertical-align: top;\n    }\n\n    .dataframe thead th {\n        text-align: right;\n    }\n</style>\n<table border=\"1\" class=\"dataframe\">\n  <thead>\n    <tr style=\"text-align: right;\">\n      <th></th>\n      <th>Case</th>\n      <th>Run</th>\n      <th>lifet_avg_ch1</th>\n      <th>lifet_avg_ch2</th>\n      <th>lifet_avg_ch3</th>\n      <th>spec_int_ch1</th>\n      <th>spec_int_ch2</th>\n      <th>spec_int_ch3</th>\n      <th>int_ratio_ch1</th>\n      <th>int_ratio_ch2</th>\n      <th>...</th>\n      <th>Laguerre_coeffs_7_ch3</th>\n      <th>Laguerre_coeffs_8_ch3</th>\n      <th>Laguerre_coeffs_9_ch3</th>\n      <th>Laguerre_coeffs_10_ch3</th>\n      <th>Laguerre_coeffs_11_ch3</th>\n      <th>Laguerre_coeffs_12_ch3</th>\n      <th>WLI_frame_n</th>\n      <th>WLI_x_coord</th>\n      <th>WLI_y_coord</th>\n      <th>Label</th>\n    </tr>\n  </thead>\n  <tbody>\n    <tr>\n      <th>0</th>\n      <td>2</td>\n      <td>10</td>\n      <td>3.677834</td>\n      <td>4.372698</td>\n      <td>4.673487</td>\n      <td>0.100970</td>\n      <td>0.105687</td>\n      <td>0.056391</td>\n      <td>0.383847</td>\n      <td>0.401777</td>\n      <td>...</td>\n      <td>0.011809</td>\n      <td>-0.012513</td>\n      <td>0.004941</td>\n      <td>-0.002295</td>\n      <td>0.001451</td>\n      <td>-0.000368</td>\n      <td>3</td>\n      <td>815</td>\n      <td>644</td>\n      <td>0</td>\n    </tr>\n    <tr>\n      <th>1</th>\n      <td>2</td>\n      <td>10</td>\n      <td>3.725055</td>\n      <td>4.311057</td>\n      <td>4.678097</td>\n      <td>0.085447</td>\n      <td>0.083083</td>\n      <td>0.045521</td>\n      <td>0.399188</td>\n      <td>0.388146</td>\n      <td>...</td>\n      <td>0.037673</td>\n      <td>0.003595</td>\n      <td>0.011348</td>\n      <td>0.000742</td>\n      <td>0.001862</td>\n      <td>-0.000485</td>\n      <td>4</td>\n      <td>813</td>\n      <td>642</td>\n      <td>0</td>\n    </tr>\n    <tr>\n      <th>2</th>\n      <td>2</td>\n      <td>10</td>\n      <td>3.809186</td>\n      <td>4.337621</td>\n      <td>4.262062</td>\n      <td>0.059230</td>\n      <td>0.059800</td>\n      <td>0.032438</td>\n      <td>0.391038</td>\n      <td>0.394803</td>\n      <td>...</td>\n      <td>0.003650</td>\n      <td>-0.004216</td>\n      <td>-0.001125</td>\n      <td>-0.000643</td>\n      <td>-0.000201</td>\n      <td>-0.000680</td>\n      <td>5</td>\n      <td>814</td>\n      <td>626</td>\n      <td>0</td>\n    </tr>\n    <tr>\n      <th>3</th>\n      <td>2</td>\n      <td>10</td>\n      <td>3.822145</td>\n      <td>4.295335</td>\n      <td>3.905487</td>\n      <td>0.053078</td>\n      <td>0.053375</td>\n      <td>0.029710</td>\n      <td>0.389809</td>\n      <td>0.391994</td>\n      <td>...</td>\n      <td>0.000380</td>\n      <td>-0.006706</td>\n      <td>-0.001397</td>\n      <td>-0.002114</td>\n      <td>0.000458</td>\n      <td>-0.000604</td>\n      <td>6</td>\n      <td>814</td>\n      <td>626</td>\n      <td>0</td>\n    </tr>\n    <tr>\n      <th>4</th>\n      <td>2</td>\n      <td>10</td>\n      <td>3.719731</td>\n      <td>4.497713</td>\n      <td>4.277077</td>\n      <td>0.059476</td>\n      <td>0.064631</td>\n      <td>0.036502</td>\n      <td>0.370316</td>\n      <td>0.402411</td>\n      <td>...</td>\n      <td>0.002631</td>\n      <td>-0.009467</td>\n      <td>-0.000464</td>\n      <td>-0.000858</td>\n      <td>0.000830</td>\n      <td>0.000674</td>\n      <td>7</td>\n      <td>818</td>\n      <td>611</td>\n      <td>0</td>\n    </tr>\n  </tbody>\n</table>\n<p>5 rows × 54 columns</p>\n</div>"
     },
     "execution_count": 9,
     "metadata": {},
     "output_type": "execute_result"
    }
   ],
   "source": [
    "\n",
    "\n",
    "bex_df = optimized_bex(subset_df) #excludes weak labels\n",
    "# bex_df = bex(subset_df)\n",
    "f = 1\n",
    "\n",
    "# Bex(subset_df, l_k=48, f_k1=6, f_k2=47)\n",
    "# %% For our current analysis we remove all V4 data and no channel 4 data\n",
    "from scipy.spatial.distance import pdist\n",
    "\n",
    "pattern = r'(Case|Run|snr_|lifet_avg_|spec_int_|int_ratio_|Laguerre_coeffs_|WLI_)'\n",
    "selected_columns = df.columns[df.columns.str.contains(pattern)]\n",
    "selected_columns = selected_columns.insert(len(selected_columns), 'Label')\n",
    "TrainTest_Data = bex_df[selected_columns]\n",
    "TrainTest_Data.head()"
   ],
   "metadata": {
    "collapsed": false,
    "ExecuteTime": {
     "end_time": "2024-03-11T19:34:30.976724Z",
     "start_time": "2024-03-11T19:34:30.730968Z"
    }
   },
   "id": "c8cb7c32e352b7b7"
  },
  {
   "cell_type": "markdown",
   "source": [
    "**.pkl File Selection**"
   ],
   "metadata": {
    "collapsed": false
   },
   "id": "52c6b67305e340b9"
  },
  {
   "cell_type": "code",
   "execution_count": 10,
   "outputs": [
    {
     "data": {
      "text/plain": "      Case  Run    snr_ch1    snr_ch2    snr_ch3  WLI_frame_n  WLI_x_coord  \\\n2181    12    2  33.607934  36.659699  34.116102           16          623   \n2182    12    2  37.825374  39.156326  33.904262           17          626   \n2183    12    2  37.149354  41.233085  37.948919           18          628   \n2184    12    2  37.982275  41.585132  37.727075           19          628   \n2185    12    2  36.610233  36.425532  31.559710           20          626   \n...    ...  ...        ...        ...        ...          ...          ...   \n2426    12    2  38.101118  42.209111  36.222743          267          608   \n2427    12    2  38.659798  40.268557  34.801394          268          599   \n2428    12    2  39.153304  41.559711  35.608918          269          601   \n2429    12    2  38.189985  42.255496  37.374352          270          602   \n2430    12    2  36.083334  40.081372  34.901286          271          596   \n\n      WLI_y_coord     score  gt  \n2181          324  0.650731   1  \n2182          322  0.152712   1  \n2183          320  0.430317   1  \n2184          320  0.711976   1  \n2185          314  0.030592   1  \n...           ...       ...  ..  \n2426          350  0.952975   1  \n2427          351  0.302713   1  \n2428          351  0.687573   1  \n2429          348  0.846065   1  \n2430          348  0.859578   1  \n\n[250 rows x 10 columns]",
      "text/html": "<div>\n<style scoped>\n    .dataframe tbody tr th:only-of-type {\n        vertical-align: middle;\n    }\n\n    .dataframe tbody tr th {\n        vertical-align: top;\n    }\n\n    .dataframe thead th {\n        text-align: right;\n    }\n</style>\n<table border=\"1\" class=\"dataframe\">\n  <thead>\n    <tr style=\"text-align: right;\">\n      <th></th>\n      <th>Case</th>\n      <th>Run</th>\n      <th>snr_ch1</th>\n      <th>snr_ch2</th>\n      <th>snr_ch3</th>\n      <th>WLI_frame_n</th>\n      <th>WLI_x_coord</th>\n      <th>WLI_y_coord</th>\n      <th>score</th>\n      <th>gt</th>\n    </tr>\n  </thead>\n  <tbody>\n    <tr>\n      <th>2181</th>\n      <td>12</td>\n      <td>2</td>\n      <td>33.607934</td>\n      <td>36.659699</td>\n      <td>34.116102</td>\n      <td>16</td>\n      <td>623</td>\n      <td>324</td>\n      <td>0.650731</td>\n      <td>1</td>\n    </tr>\n    <tr>\n      <th>2182</th>\n      <td>12</td>\n      <td>2</td>\n      <td>37.825374</td>\n      <td>39.156326</td>\n      <td>33.904262</td>\n      <td>17</td>\n      <td>626</td>\n      <td>322</td>\n      <td>0.152712</td>\n      <td>1</td>\n    </tr>\n    <tr>\n      <th>2183</th>\n      <td>12</td>\n      <td>2</td>\n      <td>37.149354</td>\n      <td>41.233085</td>\n      <td>37.948919</td>\n      <td>18</td>\n      <td>628</td>\n      <td>320</td>\n      <td>0.430317</td>\n      <td>1</td>\n    </tr>\n    <tr>\n      <th>2184</th>\n      <td>12</td>\n      <td>2</td>\n      <td>37.982275</td>\n      <td>41.585132</td>\n      <td>37.727075</td>\n      <td>19</td>\n      <td>628</td>\n      <td>320</td>\n      <td>0.711976</td>\n      <td>1</td>\n    </tr>\n    <tr>\n      <th>2185</th>\n      <td>12</td>\n      <td>2</td>\n      <td>36.610233</td>\n      <td>36.425532</td>\n      <td>31.559710</td>\n      <td>20</td>\n      <td>626</td>\n      <td>314</td>\n      <td>0.030592</td>\n      <td>1</td>\n    </tr>\n    <tr>\n      <th>...</th>\n      <td>...</td>\n      <td>...</td>\n      <td>...</td>\n      <td>...</td>\n      <td>...</td>\n      <td>...</td>\n      <td>...</td>\n      <td>...</td>\n      <td>...</td>\n      <td>...</td>\n    </tr>\n    <tr>\n      <th>2426</th>\n      <td>12</td>\n      <td>2</td>\n      <td>38.101118</td>\n      <td>42.209111</td>\n      <td>36.222743</td>\n      <td>267</td>\n      <td>608</td>\n      <td>350</td>\n      <td>0.952975</td>\n      <td>1</td>\n    </tr>\n    <tr>\n      <th>2427</th>\n      <td>12</td>\n      <td>2</td>\n      <td>38.659798</td>\n      <td>40.268557</td>\n      <td>34.801394</td>\n      <td>268</td>\n      <td>599</td>\n      <td>351</td>\n      <td>0.302713</td>\n      <td>1</td>\n    </tr>\n    <tr>\n      <th>2428</th>\n      <td>12</td>\n      <td>2</td>\n      <td>39.153304</td>\n      <td>41.559711</td>\n      <td>35.608918</td>\n      <td>269</td>\n      <td>601</td>\n      <td>351</td>\n      <td>0.687573</td>\n      <td>1</td>\n    </tr>\n    <tr>\n      <th>2429</th>\n      <td>12</td>\n      <td>2</td>\n      <td>38.189985</td>\n      <td>42.255496</td>\n      <td>37.374352</td>\n      <td>270</td>\n      <td>602</td>\n      <td>348</td>\n      <td>0.846065</td>\n      <td>1</td>\n    </tr>\n    <tr>\n      <th>2430</th>\n      <td>12</td>\n      <td>2</td>\n      <td>36.083334</td>\n      <td>40.081372</td>\n      <td>34.901286</td>\n      <td>271</td>\n      <td>596</td>\n      <td>348</td>\n      <td>0.859578</td>\n      <td>1</td>\n    </tr>\n  </tbody>\n</table>\n<p>250 rows × 10 columns</p>\n</div>"
     },
     "execution_count": 10,
     "metadata": {},
     "output_type": "execute_result"
    }
   ],
   "source": [
    "def load_pickle_file():\n",
    "    root = tk.Tk()\n",
    "    root.withdraw()\n",
    "    file_path = filedialog.askopenfilename(filetypes=[(\"Pickle files\", \"*.pkl\")])\n",
    "    \n",
    "    if file_path:\n",
    "        with open(file_path, 'rb') as file:\n",
    "            data = pickle.load(file)\n",
    "        root.destroy()  # Close the tkinter root window\n",
    "        return data\n",
    "    else:\n",
    "        print(\"No file selected.\")\n",
    "        root.destroy()  # Close the tkinter root window\n",
    "        return None\n",
    "    \n",
    "data = load_pickle_file()\n",
    "xgb_model = data['model']\n",
    "dataset = data['post_processing_data']\n",
    "dataset.head(250)"
   ],
   "metadata": {
    "collapsed": false,
    "ExecuteTime": {
     "end_time": "2024-03-11T19:37:24.662363Z",
     "start_time": "2024-03-11T19:36:54.272463Z"
    }
   },
   "id": "b9ed0229394de740"
  },
  {
   "cell_type": "code",
   "execution_count": 6,
   "outputs": [
    {
     "data": {
      "text/plain": "array([1, 0])"
     },
     "execution_count": 6,
     "metadata": {},
     "output_type": "execute_result"
    }
   ],
   "source": [
    "dataset['gt'].unique()"
   ],
   "metadata": {
    "collapsed": false,
    "ExecuteTime": {
     "end_time": "2024-03-11T07:36:10.694156Z",
     "start_time": "2024-03-11T07:36:10.637832Z"
    }
   },
   "id": "1891652f6ead79fd"
  },
  {
   "cell_type": "code",
   "execution_count": 24,
   "outputs": [],
   "source": [
    "Case_num = dataset['Case'].unique()\n",
    "filtered_df = TrainTest_Data[TrainTest_Data['Case'].isin(Case_num)]\n",
    "X_test = filtered_df.iloc[:, 2:-4]\n",
    "y_test = filtered_df.iloc[:, -1]"
   ],
   "metadata": {
    "collapsed": false,
    "ExecuteTime": {
     "end_time": "2024-03-11T20:07:10.480949Z",
     "start_time": "2024-03-11T20:07:10.476035Z"
    }
   },
   "id": "3190589a06711ab3"
  },
  {
   "cell_type": "code",
   "outputs": [
    {
     "ename": "NameError",
     "evalue": "name 'score' is not defined",
     "output_type": "error",
     "traceback": [
      "\u001B[1;31m---------------------------------------------------------------------------\u001B[0m",
      "\u001B[1;31mNameError\u001B[0m                                 Traceback (most recent call last)",
      "Cell \u001B[1;32mIn[1], line 1\u001B[0m\n\u001B[1;32m----> 1\u001B[0m perd \u001B[38;5;241m=\u001B[39m \u001B[43mscore\u001B[49m\u001B[38;5;241m<\u001B[39m\u001B[38;5;241m0.5\u001B[39m\n",
      "\u001B[1;31mNameError\u001B[0m: name 'score' is not defined"
     ]
    }
   ],
   "source": [
    "perd = score<0.5"
   ],
   "metadata": {
    "collapsed": false,
    "ExecuteTime": {
     "end_time": "2024-03-14T19:54:28.835368Z",
     "start_time": "2024-03-14T19:54:28.162420Z"
    }
   },
   "id": "d291c8c040c234e1",
   "execution_count": 1
  },
  {
   "cell_type": "code",
   "outputs": [],
   "source": [
    "Posclass = 1\n",
    "                auc = roc_auc_score(GT, score)\n",
    "                Eval.at[i, 'AUC'] = auc\n",
    "                fpr, tpr, thresholds = roc_curve(GT, score, pos_label=Posclass)\n",
    "                roc_metrics = {\"fpr\": fpr, \"tpr\": tpr, \"thresholds\": thresholds}\n",
    "\n",
    "                opt_threshold_idx = np.argmax(tpr - fpr)\n",
    "                opt_threshold = thresholds[opt_threshold_idx]\n",
    "                Eval.at[i, 'OptThreshold'] = opt_threshold\n",
    "\n",
    "            thresh = 0.5\n",
    "\n",
    "            opt_threshold = None\n",
    "\n",
    "            idx = score < thresh\n",
    "            Pred = np.empty_like(GT, dtype=object)\n",
    "            Pred[idx] = 0\n",
    "            Pred[~idx] = 1\n",
    "            TP = np.sum(np.logical_and(GT == 1, Pred == 1))\n",
    "            TN = np.sum(np.logical_and(GT == 0, Pred == 0))\n",
    "            FP = np.sum(np.logical_and(GT == 0, Pred == 1))\n",
    "            FN = np.sum(np.logical_and(GT == 1, Pred == 0))\n",
    "\n",
    "            accuracy = (TP + TN) / (TP + TN + FP + FN)\n",
    "            Recall = TP / (TP + FN)\n",
    "            Precision = TP / (TP + FP)\n",
    "            Specificity = TN / (TN + FP)\n",
    "            Sensitivity = TP / (TP + FN)"
   ],
   "metadata": {
    "collapsed": false
   },
   "id": "5fb926a4318014b0"
  },
  {
   "cell_type": "code",
   "outputs": [],
   "source": [
    "ROCAUC, OptTreshold = skitlearn.rocauc_score(score,gt)"
   ],
   "metadata": {
    "collapsed": false
   },
   "id": "b6136adbf74035e6"
  },
  {
   "cell_type": "code",
   "outputs": [],
   "source": [
    "X_test_TP\n",
    "X_test_TN\n",
    "X_test_FP\n",
    "X_test_FN"
   ],
   "metadata": {
    "collapsed": false
   },
   "id": "d2bd4393bc7faee1"
  },
  {
   "cell_type": "markdown",
   "source": [
    "**SHAP Explainer Threshold 0.5**"
   ],
   "metadata": {
    "collapsed": false
   },
   "id": "de8eb63c0242fde1"
  },
  {
   "cell_type": "code",
   "execution_count": 25,
   "outputs": [],
   "source": [
    "#features = TrainTest_Data\n",
    "\n",
    "explainer = shap.Explainer(xgb_model)\n",
    "shap_values = explainer.shap_values(X_test)"
   ],
   "metadata": {
    "collapsed": false,
    "ExecuteTime": {
     "end_time": "2024-03-11T20:07:20.876750Z",
     "start_time": "2024-03-11T20:07:20.576690Z"
    }
   },
   "id": "ea9c30ee6d067954"
  },
  {
   "cell_type": "code",
   "execution_count": null,
   "outputs": [],
   "source": [],
   "metadata": {
    "collapsed": false
   },
   "id": "ff0536fc4c17c2ac"
  },
  {
   "cell_type": "markdown",
   "source": [
    "**Prepare SHAP Explainer & Calculate SHAP Values**"
   ],
   "metadata": {
    "collapsed": false
   },
   "id": "c185906fe4a00d3e"
  },
  {
   "cell_type": "code",
   "outputs": [],
   "source": [
    "import dtreeviz"
   ],
   "metadata": {
    "collapsed": false
   },
   "id": "717a8460bc2ef971"
  },
  {
   "cell_type": "code",
   "outputs": [
    {
     "ename": "NameError",
     "evalue": "name 'np' is not defined",
     "output_type": "error",
     "traceback": [
      "\u001B[1;31m---------------------------------------------------------------------------\u001B[0m",
      "\u001B[1;31mNameError\u001B[0m                                 Traceback (most recent call last)",
      "Cell \u001B[1;32mIn[2], line 1\u001B[0m\n\u001B[1;32m----> 1\u001B[0m train_indices \u001B[38;5;241m=\u001B[39m \u001B[43mnp\u001B[49m\u001B[38;5;241m.\u001B[39mwhere(TrainTest_Data[\u001B[38;5;124m'\u001B[39m\u001B[38;5;124mCase\u001B[39m\u001B[38;5;124m'\u001B[39m] \u001B[38;5;241m!=\u001B[39m Case_num[i])[\u001B[38;5;241m0\u001B[39m]\n\u001B[0;32m      2\u001B[0m X_train \u001B[38;5;241m=\u001B[39m TrainTest_Data\u001B[38;5;241m.\u001B[39miloc[train_indices, \u001B[38;5;241m2\u001B[39m:\u001B[38;5;241m-\u001B[39m\u001B[38;5;241m4\u001B[39m]\u001B[38;5;241m.\u001B[39mcopy()\n\u001B[0;32m      3\u001B[0m y_train \u001B[38;5;241m=\u001B[39m TrainTest_Data\u001B[38;5;241m.\u001B[39miloc[train_indices][\u001B[38;5;124m'\u001B[39m\u001B[38;5;124mLabel\u001B[39m\u001B[38;5;124m'\u001B[39m]\u001B[38;5;241m.\u001B[39mcopy()\n",
      "\u001B[1;31mNameError\u001B[0m: name 'np' is not defined"
     ]
    }
   ],
   "source": [
    "train_indices = np.where(TrainTest_Data['Case'] != Case_num)[0]\n",
    "X_train = TrainTest_Data.iloc[train_indices, 2:-4].copy()\n",
    "y_train = TrainTest_Data.iloc[train_indices]['Label'].copy()"
   ],
   "metadata": {
    "collapsed": false,
    "ExecuteTime": {
     "end_time": "2024-03-14T20:01:04.627770Z",
     "start_time": "2024-03-14T20:01:04.594835Z"
    }
   },
   "id": "7238573f4ec7b0a2",
   "execution_count": 2
  },
  {
   "cell_type": "code",
   "outputs": [],
   "source": [
    "viz_model = dtreeviz.model(xgb_model, tree_index=1, X_train = X_train, y_train = y_train, feature_names=feature_names, target_name=target_name)\n",
    "\n",
    "v= viz_model.view()\n",
    "v.save(\"tree_test.svg\")"
   ],
   "metadata": {
    "collapsed": false
   },
   "id": "87e2037a21a2bcdd"
  }
 ],
 "metadata": {
  "kernelspec": {
   "display_name": "Python 3",
   "language": "python",
   "name": "python3"
  },
  "language_info": {
   "codemirror_mode": {
    "name": "ipython",
    "version": 2
   },
   "file_extension": ".py",
   "mimetype": "text/x-python",
   "name": "python",
   "nbconvert_exporter": "python",
   "pygments_lexer": "ipython2",
   "version": "2.7.6"
  }
 },
 "nbformat": 4,
 "nbformat_minor": 5
}
