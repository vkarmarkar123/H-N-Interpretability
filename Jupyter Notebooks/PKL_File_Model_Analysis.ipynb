{
 "cells": [
  {
   "cell_type": "code",
   "execution_count": 1,
   "id": "initial_id",
   "metadata": {
    "collapsed": true,
    "ExecuteTime": {
     "end_time": "2024-03-11T07:15:02.059648Z",
     "start_time": "2024-03-11T07:14:57.602913Z"
    }
   },
   "outputs": [],
   "source": [
    "import pickle\n",
    "import shap\n",
    "import os\n",
    "import pandas as pd\n",
    "from Fast_BEX import optimized_bex\n",
    "from Bex import bex\n",
    "import xgboost as xgb\n",
    "import matplotlib.pyplot as plt\n",
    "import tkinter as tk\n",
    "from tkinter import filedialog"
   ]
  },
  {
   "cell_type": "code",
   "execution_count": 2,
   "outputs": [
    {
     "name": "stderr",
     "output_type": "stream",
     "text": [
      "Columns (10,12,17,18,19,20,24) have mixed types. Specify dtype option on import or set low_memory=False.\n"
     ]
    }
   ],
   "source": [
    "df = pd.read_csv(\"../CSVs and Output Files/HN_P2C_20231207.csv\")\n",
    "cwd = os.getcwd()"
   ],
   "metadata": {
    "collapsed": false,
    "ExecuteTime": {
     "end_time": "2024-03-11T07:16:22.179671Z",
     "start_time": "2024-03-11T07:15:07.310339Z"
    }
   },
   "id": "66cbe1296a9c4e79"
  },
  {
   "cell_type": "code",
   "execution_count": 4,
   "outputs": [
    {
     "data": {
      "text/plain": "array([  2,   4,   5,   6,   7,   8,  10,  12,  13,  14,  15,  16,  17,\n        18,  19,  20,  21,  22,  23,  24,  25,  26,  27,  28,  29,  30,\n        31,  32,  33,  34,  35,  36,  37,  38,  39,  41,  42,  43,  44,\n        45,  46,  47,  48,  49,  50,  51,  52,  53,  54,  55,  56,  57,\n        58,  59,  60,  61,  62,  63,  64,  65,  66,  67,  68,  69,  70,\n        71,  72,  73,  74,  75,  76,  77,  78,  79,  80,  81,  82,  83,\n        84,  85,  86,  87,  88,  89,  90,  91,  92,  93,  94,  95,  96,\n        97,  98,  99, 100, 101, 102, 103, 104, 105, 106, 107, 108, 109,\n       110, 111, 112, 113, 114, 115, 116, 117, 118, 119, 120, 121, 122,\n       123, 124, 125, 127, 128, 129, 130, 131, 132, 133, 134, 135, 136,\n       137, 138, 139, 140, 141, 142, 143, 144, 145, 146, 147, 148, 149,\n       150, 152, 153, 155, 156, 157, 158, 159, 160, 161, 162, 163, 164,\n       165, 166, 167, 168, 169, 170, 171, 172, 173, 174, 175, 176, 177,\n       178, 179])"
     },
     "execution_count": 4,
     "metadata": {},
     "output_type": "execute_result"
    }
   ],
   "source": [
    "df['Case'].unique()"
   ],
   "metadata": {
    "collapsed": false,
    "ExecuteTime": {
     "end_time": "2024-03-11T07:16:57.500763Z",
     "start_time": "2024-03-11T07:16:57.460Z"
    }
   },
   "id": "3f4ecab04a583ad7"
  },
  {
   "cell_type": "code",
   "execution_count": 6,
   "outputs": [],
   "source": [
    "df = df[df['ScanContext'] == 'In Vivo']\n",
    "\n",
    "# %% SNR and lifetime filtering\n",
    "index = df[((df['snr_ch1'] < 30) & (df['Instrument'] == 'V4')) |\n",
    "           ((df['snr_ch2'] < 30) & (df['Instrument'] == 'V4')) |\n",
    "           ((df['snr_ch3'] < 30) & (df['Instrument'] == 'V4'))].index\n",
    "df.drop(index, inplace=True)\n",
    "index = df[((df['snr_ch1'] < 50) & (df['Instrument'] == 'FLImBrush')) |\n",
    "           ((df['snr_ch2'] < 50) & (df['Instrument'] == 'FLImBrush')) |\n",
    "           ((df['snr_ch3'] < 50) & (df['Instrument'] == 'FLImBrush'))].index\n",
    "df.drop(index, inplace=True)\n",
    "\n",
    "# R_data((R_data.lifet_avg_ch1 > 10 | R_data.lifet_avg_ch1 < 2),:) = [];\n",
    "index = df[((df['lifet_avg_ch1'] > 16) | (df['lifet_avg_ch1'] < 1)) |\n",
    "           ((df['lifet_avg_ch2'] > 16) | (df['lifet_avg_ch2'] < 1)) |\n",
    "           ((df['lifet_avg_ch3'] > 16) | (df['lifet_avg_ch3'] < 1))].index\n",
    "df.drop(index, inplace=True)\n",
    "\n",
    "# %% For our current analysis we remove all V4 data and no channel 4 data\n",
    "index = df[df['Instrument'] == 'FLImBrush'].index\n",
    "df.drop(index, inplace=True)"
   ],
   "metadata": {
    "collapsed": false,
    "ExecuteTime": {
     "end_time": "2024-03-10T06:10:24.939703Z",
     "start_time": "2024-03-10T06:10:19.945195Z"
    }
   },
   "id": "50537df7c4fb0bc7"
  },
  {
   "cell_type": "markdown",
   "source": [
    "In the following code, I changed (in line 3)\n",
    "`selected_columns = df.columns[df.columns.str.contains(pattern)]` to\n",
    "`selected_columns = df.columns[df.columns.str.match(pattern)]`\n",
    "\n",
    "and same edits in line 28 - any neg effects?\n"
   ],
   "metadata": {
    "collapsed": false
   },
   "id": "cd2fba1adf5f6f5f"
  },
  {
   "cell_type": "code",
   "execution_count": 34,
   "outputs": [
    {
     "name": "stderr",
     "output_type": "stream",
     "text": [
      "This pattern is interpreted as a regular expression, and has match groups. To actually get the groups, use str.extract.\n",
      "This pattern is interpreted as a regular expression, and has match groups. To actually get the groups, use str.extract.\n"
     ]
    },
    {
     "data": {
      "text/plain": "   Case  Run  lifet_avg_ch1  lifet_avg_ch2  lifet_avg_ch3  spec_int_ch1  \\\n0   100    5       6.781026       5.484078       5.954712      0.001646   \n1   100    5       5.849314       5.923007       6.376650      0.002385   \n2   100    5       4.740269       5.756032       6.356454      0.003283   \n3   100    5       4.675725       6.071339       7.349476      0.004329   \n4   100    5       5.886445       5.379686       6.022543      0.004617   \n\n   spec_int_ch2  spec_int_ch3  int_ratio_ch1  int_ratio_ch2  ...  \\\n0      0.006527      0.003781       0.137723       0.546027  ...   \n1      0.007493      0.003722       0.175381       0.550946  ...   \n2      0.010584      0.006175       0.163797       0.528093  ...   \n3      0.012776      0.007327       0.177199       0.522911  ...   \n4      0.013433      0.007090       0.183663       0.534327  ...   \n\n   Laguerre_coeffs_7_ch3  Laguerre_coeffs_8_ch3  Laguerre_coeffs_9_ch3  \\\n0               0.035281               0.000746               0.008990   \n1               0.034634              -0.015480               0.011322   \n2               0.058853              -0.002603               0.016793   \n3               0.042679              -0.029315               0.015650   \n4               0.037973              -0.004290               0.015041   \n\n   Laguerre_coeffs_10_ch3  Laguerre_coeffs_11_ch3  Laguerre_coeffs_12_ch3  \\\n0               -0.001362                0.002206               -0.000534   \n1               -0.004491                0.002076               -0.000395   \n2                0.003447                0.003154                0.001915   \n3               -0.006797                0.002987               -0.000304   \n4               -0.001020                0.003769                0.000139   \n\n   WLI_frame_n  WLI_x_coord  WLI_y_coord  Label  \n0           20          679          245      1  \n1           21          679          245      1  \n2           22          678          246      1  \n3           23          679          246      1  \n4           24          683          245      1  \n\n[5 rows x 54 columns]",
      "text/html": "<div>\n<style scoped>\n    .dataframe tbody tr th:only-of-type {\n        vertical-align: middle;\n    }\n\n    .dataframe tbody tr th {\n        vertical-align: top;\n    }\n\n    .dataframe thead th {\n        text-align: right;\n    }\n</style>\n<table border=\"1\" class=\"dataframe\">\n  <thead>\n    <tr style=\"text-align: right;\">\n      <th></th>\n      <th>Case</th>\n      <th>Run</th>\n      <th>lifet_avg_ch1</th>\n      <th>lifet_avg_ch2</th>\n      <th>lifet_avg_ch3</th>\n      <th>spec_int_ch1</th>\n      <th>spec_int_ch2</th>\n      <th>spec_int_ch3</th>\n      <th>int_ratio_ch1</th>\n      <th>int_ratio_ch2</th>\n      <th>...</th>\n      <th>Laguerre_coeffs_7_ch3</th>\n      <th>Laguerre_coeffs_8_ch3</th>\n      <th>Laguerre_coeffs_9_ch3</th>\n      <th>Laguerre_coeffs_10_ch3</th>\n      <th>Laguerre_coeffs_11_ch3</th>\n      <th>Laguerre_coeffs_12_ch3</th>\n      <th>WLI_frame_n</th>\n      <th>WLI_x_coord</th>\n      <th>WLI_y_coord</th>\n      <th>Label</th>\n    </tr>\n  </thead>\n  <tbody>\n    <tr>\n      <th>0</th>\n      <td>100</td>\n      <td>5</td>\n      <td>6.781026</td>\n      <td>5.484078</td>\n      <td>5.954712</td>\n      <td>0.001646</td>\n      <td>0.006527</td>\n      <td>0.003781</td>\n      <td>0.137723</td>\n      <td>0.546027</td>\n      <td>...</td>\n      <td>0.035281</td>\n      <td>0.000746</td>\n      <td>0.008990</td>\n      <td>-0.001362</td>\n      <td>0.002206</td>\n      <td>-0.000534</td>\n      <td>20</td>\n      <td>679</td>\n      <td>245</td>\n      <td>1</td>\n    </tr>\n    <tr>\n      <th>1</th>\n      <td>100</td>\n      <td>5</td>\n      <td>5.849314</td>\n      <td>5.923007</td>\n      <td>6.376650</td>\n      <td>0.002385</td>\n      <td>0.007493</td>\n      <td>0.003722</td>\n      <td>0.175381</td>\n      <td>0.550946</td>\n      <td>...</td>\n      <td>0.034634</td>\n      <td>-0.015480</td>\n      <td>0.011322</td>\n      <td>-0.004491</td>\n      <td>0.002076</td>\n      <td>-0.000395</td>\n      <td>21</td>\n      <td>679</td>\n      <td>245</td>\n      <td>1</td>\n    </tr>\n    <tr>\n      <th>2</th>\n      <td>100</td>\n      <td>5</td>\n      <td>4.740269</td>\n      <td>5.756032</td>\n      <td>6.356454</td>\n      <td>0.003283</td>\n      <td>0.010584</td>\n      <td>0.006175</td>\n      <td>0.163797</td>\n      <td>0.528093</td>\n      <td>...</td>\n      <td>0.058853</td>\n      <td>-0.002603</td>\n      <td>0.016793</td>\n      <td>0.003447</td>\n      <td>0.003154</td>\n      <td>0.001915</td>\n      <td>22</td>\n      <td>678</td>\n      <td>246</td>\n      <td>1</td>\n    </tr>\n    <tr>\n      <th>3</th>\n      <td>100</td>\n      <td>5</td>\n      <td>4.675725</td>\n      <td>6.071339</td>\n      <td>7.349476</td>\n      <td>0.004329</td>\n      <td>0.012776</td>\n      <td>0.007327</td>\n      <td>0.177199</td>\n      <td>0.522911</td>\n      <td>...</td>\n      <td>0.042679</td>\n      <td>-0.029315</td>\n      <td>0.015650</td>\n      <td>-0.006797</td>\n      <td>0.002987</td>\n      <td>-0.000304</td>\n      <td>23</td>\n      <td>679</td>\n      <td>246</td>\n      <td>1</td>\n    </tr>\n    <tr>\n      <th>4</th>\n      <td>100</td>\n      <td>5</td>\n      <td>5.886445</td>\n      <td>5.379686</td>\n      <td>6.022543</td>\n      <td>0.004617</td>\n      <td>0.013433</td>\n      <td>0.007090</td>\n      <td>0.183663</td>\n      <td>0.534327</td>\n      <td>...</td>\n      <td>0.037973</td>\n      <td>-0.004290</td>\n      <td>0.015041</td>\n      <td>-0.001020</td>\n      <td>0.003769</td>\n      <td>0.000139</td>\n      <td>24</td>\n      <td>683</td>\n      <td>245</td>\n      <td>1</td>\n    </tr>\n  </tbody>\n</table>\n<p>5 rows × 54 columns</p>\n</div>"
     },
     "execution_count": 34,
     "metadata": {},
     "output_type": "execute_result"
    }
   ],
   "source": [
    "# Extract columns based on specific patterns\n",
    "pattern = r'(Case|Run|snr_|lifet_avg_|spec_int_|int_ratio_|Laguerre_coeffs_|Phasor_GH|Phasor_SH|WLI_)'\n",
    "selected_columns = df.columns[df.columns.str.contains(pattern)]\n",
    "\n",
    "# Add the \"Label\" column, which doesn't fit the patterns\n",
    "selected_columns = selected_columns.insert(len(selected_columns), 'Label')\n",
    "\n",
    "subset_df = df[selected_columns]\n",
    "subset_df = subset_df.dropna()\n",
    "\n",
    "subset_df = subset_df[subset_df['Label'] != 0]\n",
    "# Replace values in the 'Label' column\n",
    "subset_df['Label'] = subset_df['Label'].replace([1, 2, 18, 20, 25, 27, 29, 36, 37], 0)\n",
    "subset_df['Label'] = subset_df['Label'].replace([5, 6, 7, 8, 9, 10, 11, 12, 13, 14, 15, 16, 17, 22, 24, 28, 30, 33], 1)\n",
    "\n",
    "# Remove rows where 'Label' is not 0 or 1\n",
    "subset_df = subset_df[subset_df['Label'].isin([0, 1])]\n",
    "\n",
    "#bex_df = optimized_bex(subset_df) #excludes weak labels\n",
    "bex_df = bex(subset_df)\n",
    "f = 1\n",
    "\n",
    "# Bex(subset_df, l_k=48, f_k1=6, f_k2=47)\n",
    "# %% For our current analysis we remove all V4 data and no channel 4 data\n",
    "from scipy.spatial.distance import pdist\n",
    "\n",
    "pattern = r'(Case|Run|snr_|lifet_avg_|spec_int_|int_ratio_|Laguerre_coeffs_|WLI_)'\n",
    "selected_columns = df.columns[df.columns.str.contains(pattern)]\n",
    "selected_columns = selected_columns.insert(len(selected_columns), 'Label')\n",
    "TrainTest_Data = bex_df[selected_columns]\n",
    "TrainTest_Data.head()"
   ],
   "metadata": {
    "collapsed": false,
    "ExecuteTime": {
     "end_time": "2024-03-10T06:58:12.219416Z",
     "start_time": "2024-03-10T06:55:20.830183Z"
    }
   },
   "id": "c8cb7c32e352b7b7"
  },
  {
   "cell_type": "markdown",
   "source": [
    "**.pkl File Selection**"
   ],
   "metadata": {
    "collapsed": false
   },
   "id": "52c6b67305e340b9"
  },
  {
   "cell_type": "code",
   "execution_count": 7,
   "outputs": [
    {
     "name": "stderr",
     "output_type": "stream",
     "text": [
      "2024-03-11 00:36:19.500 python[28821:12559356] +[CATransaction synchronize] called within transaction\n",
      "2024-03-11 00:36:19.607 python[28821:12559356] +[CATransaction synchronize] called within transaction\n",
      "2024-03-11 00:36:24.770 python[28821:12559356] +[CATransaction synchronize] called within transaction\n"
     ]
    },
    {
     "data": {
      "text/plain": "      Case  Run    snr_ch1    snr_ch2    snr_ch3  WLI_frame_n  WLI_x_coord  \\\n2138    25    1  31.911923  34.841784  30.060749            9          685   \n2139    25    1  31.524589  35.174167  31.011359           14          673   \n2140    25    1  34.365631  37.667625  32.239650           15          674   \n2141    25    1  35.723010  36.751284  30.918884           16          678   \n2142    25    1  35.475074  35.965642  33.528947           18          676   \n...    ...  ...        ...        ...        ...          ...          ...   \n2383    25    1  31.933568  36.954090  32.422961          406          745   \n2384    25    1  32.692458  36.680010  32.329930          407          745   \n2385    25    1  34.332922  36.678309  32.246626          410          741   \n2386    25    1  37.460354  40.248421  35.572587          425          730   \n2387    25    1  36.359517  41.453820  35.565306          426          733   \n\n      WLI_y_coord     score  gt  \n2138          474  0.598781   1  \n2139          466  0.732532   1  \n2140          467  0.498596   1  \n2141          464  0.775350   1  \n2142          436  0.822335   1  \n...           ...       ...  ..  \n2383          453  0.809451   1  \n2384          446  0.985533   1  \n2385          434  0.857804   1  \n2386          368  0.895617   0  \n2387          360  0.931828   0  \n\n[250 rows x 10 columns]",
      "text/html": "<div>\n<style scoped>\n    .dataframe tbody tr th:only-of-type {\n        vertical-align: middle;\n    }\n\n    .dataframe tbody tr th {\n        vertical-align: top;\n    }\n\n    .dataframe thead th {\n        text-align: right;\n    }\n</style>\n<table border=\"1\" class=\"dataframe\">\n  <thead>\n    <tr style=\"text-align: right;\">\n      <th></th>\n      <th>Case</th>\n      <th>Run</th>\n      <th>snr_ch1</th>\n      <th>snr_ch2</th>\n      <th>snr_ch3</th>\n      <th>WLI_frame_n</th>\n      <th>WLI_x_coord</th>\n      <th>WLI_y_coord</th>\n      <th>score</th>\n      <th>gt</th>\n    </tr>\n  </thead>\n  <tbody>\n    <tr>\n      <th>2138</th>\n      <td>25</td>\n      <td>1</td>\n      <td>31.911923</td>\n      <td>34.841784</td>\n      <td>30.060749</td>\n      <td>9</td>\n      <td>685</td>\n      <td>474</td>\n      <td>0.598781</td>\n      <td>1</td>\n    </tr>\n    <tr>\n      <th>2139</th>\n      <td>25</td>\n      <td>1</td>\n      <td>31.524589</td>\n      <td>35.174167</td>\n      <td>31.011359</td>\n      <td>14</td>\n      <td>673</td>\n      <td>466</td>\n      <td>0.732532</td>\n      <td>1</td>\n    </tr>\n    <tr>\n      <th>2140</th>\n      <td>25</td>\n      <td>1</td>\n      <td>34.365631</td>\n      <td>37.667625</td>\n      <td>32.239650</td>\n      <td>15</td>\n      <td>674</td>\n      <td>467</td>\n      <td>0.498596</td>\n      <td>1</td>\n    </tr>\n    <tr>\n      <th>2141</th>\n      <td>25</td>\n      <td>1</td>\n      <td>35.723010</td>\n      <td>36.751284</td>\n      <td>30.918884</td>\n      <td>16</td>\n      <td>678</td>\n      <td>464</td>\n      <td>0.775350</td>\n      <td>1</td>\n    </tr>\n    <tr>\n      <th>2142</th>\n      <td>25</td>\n      <td>1</td>\n      <td>35.475074</td>\n      <td>35.965642</td>\n      <td>33.528947</td>\n      <td>18</td>\n      <td>676</td>\n      <td>436</td>\n      <td>0.822335</td>\n      <td>1</td>\n    </tr>\n    <tr>\n      <th>...</th>\n      <td>...</td>\n      <td>...</td>\n      <td>...</td>\n      <td>...</td>\n      <td>...</td>\n      <td>...</td>\n      <td>...</td>\n      <td>...</td>\n      <td>...</td>\n      <td>...</td>\n    </tr>\n    <tr>\n      <th>2383</th>\n      <td>25</td>\n      <td>1</td>\n      <td>31.933568</td>\n      <td>36.954090</td>\n      <td>32.422961</td>\n      <td>406</td>\n      <td>745</td>\n      <td>453</td>\n      <td>0.809451</td>\n      <td>1</td>\n    </tr>\n    <tr>\n      <th>2384</th>\n      <td>25</td>\n      <td>1</td>\n      <td>32.692458</td>\n      <td>36.680010</td>\n      <td>32.329930</td>\n      <td>407</td>\n      <td>745</td>\n      <td>446</td>\n      <td>0.985533</td>\n      <td>1</td>\n    </tr>\n    <tr>\n      <th>2385</th>\n      <td>25</td>\n      <td>1</td>\n      <td>34.332922</td>\n      <td>36.678309</td>\n      <td>32.246626</td>\n      <td>410</td>\n      <td>741</td>\n      <td>434</td>\n      <td>0.857804</td>\n      <td>1</td>\n    </tr>\n    <tr>\n      <th>2386</th>\n      <td>25</td>\n      <td>1</td>\n      <td>37.460354</td>\n      <td>40.248421</td>\n      <td>35.572587</td>\n      <td>425</td>\n      <td>730</td>\n      <td>368</td>\n      <td>0.895617</td>\n      <td>0</td>\n    </tr>\n    <tr>\n      <th>2387</th>\n      <td>25</td>\n      <td>1</td>\n      <td>36.359517</td>\n      <td>41.453820</td>\n      <td>35.565306</td>\n      <td>426</td>\n      <td>733</td>\n      <td>360</td>\n      <td>0.931828</td>\n      <td>0</td>\n    </tr>\n  </tbody>\n</table>\n<p>250 rows × 10 columns</p>\n</div>"
     },
     "execution_count": 7,
     "metadata": {},
     "output_type": "execute_result"
    }
   ],
   "source": [
    "def load_pickle_file():\n",
    "    root = tk.Tk()\n",
    "    root.withdraw()\n",
    "    file_path = filedialog.askopenfilename(filetypes=[(\"Pickle files\", \"*.pkl\")])\n",
    "    \n",
    "    if file_path:\n",
    "        with open(file_path, 'rb') as file:\n",
    "            data = pickle.load(file)\n",
    "        root.destroy()  # Close the tkinter root window\n",
    "        return data\n",
    "    else:\n",
    "        print(\"No file selected.\")\n",
    "        root.destroy()  # Close the tkinter root window\n",
    "        return None\n",
    "    \n",
    "data = load_pickle_file()\n",
    "xgb_model = data['model']\n",
    "dataset = data['post_processing_data']\n",
    "dataset.head(250)"
   ],
   "metadata": {
    "collapsed": false,
    "ExecuteTime": {
     "end_time": "2024-03-11T07:36:27.239103Z",
     "start_time": "2024-03-11T07:36:19.299313Z"
    }
   },
   "id": "b9ed0229394de740"
  },
  {
   "cell_type": "code",
   "execution_count": 6,
   "outputs": [
    {
     "data": {
      "text/plain": "array([1, 0])"
     },
     "execution_count": 6,
     "metadata": {},
     "output_type": "execute_result"
    }
   ],
   "source": [
    "dataset['gt'].unique()"
   ],
   "metadata": {
    "collapsed": false,
    "ExecuteTime": {
     "end_time": "2024-03-11T07:36:10.694156Z",
     "start_time": "2024-03-11T07:36:10.637832Z"
    }
   },
   "id": "1891652f6ead79fd"
  },
  {
   "cell_type": "markdown",
   "source": [
    "**SHAP Explainer**"
   ],
   "metadata": {
    "collapsed": false
   },
   "id": "de8eb63c0242fde1"
  },
  {
   "cell_type": "code",
   "execution_count": 9,
   "outputs": [
    {
     "name": "stderr",
     "output_type": "stream",
     "text": [
      "[00:37:41] WARNING: /Users/runner/work/xgboost/xgboost/src/c_api/c_api.cc:1240: Saving into deprecated binary model format, please consider using `json` or `ubj`. Model format will default to JSON in XGBoost 2.2 if not specified.\n"
     ]
    },
    {
     "ename": "ValueError",
     "evalue": "This reshape error is often caused by passing a bad data matrix to SHAP. See https://github.com/shap/shap/issues/580.",
     "output_type": "error",
     "traceback": [
      "\u001B[0;31m---------------------------------------------------------------------------\u001B[0m",
      "\u001B[0;31mXGBoostError\u001B[0m                              Traceback (most recent call last)",
      "File \u001B[0;32m~/anaconda3/lib/python3.11/site-packages/shap/explainers/_tree.py:402\u001B[0m, in \u001B[0;36mTreeExplainer.shap_values\u001B[0;34m(self, X, y, tree_limit, approximate, check_additivity, from_call)\u001B[0m\n\u001B[1;32m    401\u001B[0m \u001B[38;5;28;01mtry\u001B[39;00m:\n\u001B[0;32m--> 402\u001B[0m     phi \u001B[38;5;241m=\u001B[39m \u001B[38;5;28;43mself\u001B[39;49m\u001B[38;5;241;43m.\u001B[39;49m\u001B[43mmodel\u001B[49m\u001B[38;5;241;43m.\u001B[39;49m\u001B[43moriginal_model\u001B[49m\u001B[38;5;241;43m.\u001B[39;49m\u001B[43mpredict\u001B[49m\u001B[43m(\u001B[49m\n\u001B[1;32m    403\u001B[0m \u001B[43m        \u001B[49m\u001B[43mX\u001B[49m\u001B[43m,\u001B[49m\u001B[43m \u001B[49m\u001B[43miteration_range\u001B[49m\u001B[38;5;241;43m=\u001B[39;49m\u001B[43m(\u001B[49m\u001B[38;5;241;43m0\u001B[39;49m\u001B[43m,\u001B[49m\u001B[43m \u001B[49m\u001B[43mtree_limit\u001B[49m\u001B[43m)\u001B[49m\u001B[43m,\u001B[49m\u001B[43m \u001B[49m\u001B[43mpred_contribs\u001B[49m\u001B[38;5;241;43m=\u001B[39;49m\u001B[38;5;28;43;01mTrue\u001B[39;49;00m\u001B[43m,\u001B[49m\n\u001B[1;32m    404\u001B[0m \u001B[43m        \u001B[49m\u001B[43mapprox_contribs\u001B[49m\u001B[38;5;241;43m=\u001B[39;49m\u001B[43mapproximate\u001B[49m\u001B[43m,\u001B[49m\u001B[43m \u001B[49m\u001B[43mvalidate_features\u001B[49m\u001B[38;5;241;43m=\u001B[39;49m\u001B[38;5;28;43;01mFalse\u001B[39;49;00m\n\u001B[1;32m    405\u001B[0m \u001B[43m    \u001B[49m\u001B[43m)\u001B[49m\n\u001B[1;32m    406\u001B[0m \u001B[38;5;28;01mexcept\u001B[39;00m \u001B[38;5;167;01mValueError\u001B[39;00m \u001B[38;5;28;01mas\u001B[39;00m e:\n",
      "File \u001B[0;32m~/anaconda3/lib/python3.11/site-packages/xgboost/core.py:2297\u001B[0m, in \u001B[0;36mBooster.predict\u001B[0;34m(self, data, output_margin, pred_leaf, pred_contribs, approx_contribs, pred_interactions, validate_features, training, iteration_range, strict_shape)\u001B[0m\n\u001B[1;32m   2296\u001B[0m dims \u001B[38;5;241m=\u001B[39m c_bst_ulong()\n\u001B[0;32m-> 2297\u001B[0m \u001B[43m_check_call\u001B[49m\u001B[43m(\u001B[49m\n\u001B[1;32m   2298\u001B[0m \u001B[43m    \u001B[49m\u001B[43m_LIB\u001B[49m\u001B[38;5;241;43m.\u001B[39;49m\u001B[43mXGBoosterPredictFromDMatrix\u001B[49m\u001B[43m(\u001B[49m\n\u001B[1;32m   2299\u001B[0m \u001B[43m        \u001B[49m\u001B[38;5;28;43mself\u001B[39;49m\u001B[38;5;241;43m.\u001B[39;49m\u001B[43mhandle\u001B[49m\u001B[43m,\u001B[49m\n\u001B[1;32m   2300\u001B[0m \u001B[43m        \u001B[49m\u001B[43mdata\u001B[49m\u001B[38;5;241;43m.\u001B[39;49m\u001B[43mhandle\u001B[49m\u001B[43m,\u001B[49m\n\u001B[1;32m   2301\u001B[0m \u001B[43m        \u001B[49m\u001B[43mfrom_pystr_to_cstr\u001B[49m\u001B[43m(\u001B[49m\u001B[43mjson\u001B[49m\u001B[38;5;241;43m.\u001B[39;49m\u001B[43mdumps\u001B[49m\u001B[43m(\u001B[49m\u001B[43margs\u001B[49m\u001B[43m)\u001B[49m\u001B[43m)\u001B[49m\u001B[43m,\u001B[49m\n\u001B[1;32m   2302\u001B[0m \u001B[43m        \u001B[49m\u001B[43mctypes\u001B[49m\u001B[38;5;241;43m.\u001B[39;49m\u001B[43mbyref\u001B[49m\u001B[43m(\u001B[49m\u001B[43mshape\u001B[49m\u001B[43m)\u001B[49m\u001B[43m,\u001B[49m\n\u001B[1;32m   2303\u001B[0m \u001B[43m        \u001B[49m\u001B[43mctypes\u001B[49m\u001B[38;5;241;43m.\u001B[39;49m\u001B[43mbyref\u001B[49m\u001B[43m(\u001B[49m\u001B[43mdims\u001B[49m\u001B[43m)\u001B[49m\u001B[43m,\u001B[49m\n\u001B[1;32m   2304\u001B[0m \u001B[43m        \u001B[49m\u001B[43mctypes\u001B[49m\u001B[38;5;241;43m.\u001B[39;49m\u001B[43mbyref\u001B[49m\u001B[43m(\u001B[49m\u001B[43mpreds\u001B[49m\u001B[43m)\u001B[49m\u001B[43m,\u001B[49m\n\u001B[1;32m   2305\u001B[0m \u001B[43m    \u001B[49m\u001B[43m)\u001B[49m\n\u001B[1;32m   2306\u001B[0m \u001B[43m\u001B[49m\u001B[43m)\u001B[49m\n\u001B[1;32m   2307\u001B[0m \u001B[38;5;28;01mreturn\u001B[39;00m _prediction_output(shape, dims, preds, \u001B[38;5;28;01mFalse\u001B[39;00m)\n",
      "File \u001B[0;32m~/anaconda3/lib/python3.11/site-packages/xgboost/core.py:282\u001B[0m, in \u001B[0;36m_check_call\u001B[0;34m(ret)\u001B[0m\n\u001B[1;32m    281\u001B[0m \u001B[38;5;28;01mif\u001B[39;00m ret \u001B[38;5;241m!=\u001B[39m \u001B[38;5;241m0\u001B[39m:\n\u001B[0;32m--> 282\u001B[0m     \u001B[38;5;28;01mraise\u001B[39;00m XGBoostError(py_str(_LIB\u001B[38;5;241m.\u001B[39mXGBGetLastError()))\n",
      "\u001B[0;31mXGBoostError\u001B[0m: [00:37:41] /Users/runner/work/xgboost/xgboost/src/c_api/c_api_utils.h:125: Check failed: std::accumulate(shape.cbegin(), shape.cend(), static_cast<bst_ulong>(1), std::multiplies<>{}) == chunksize * rows (4587 vs. 20433) : \nStack trace:\n  [bt] (0) 1   libxgboost.dylib                    0x000000015a53c994 dmlc::LogMessageFatal::~LogMessageFatal() + 124\n  [bt] (1) 2   libxgboost.dylib                    0x000000015a55f980 xgboost::CalcPredictShape(bool, xgboost::PredictionType, unsigned long, unsigned long, unsigned long, unsigned long, unsigned long, std::__1::vector<unsigned long long, std::__1::allocator<unsigned long long>>*, unsigned long long*) + 1260\n  [bt] (2) 3   libxgboost.dylib                    0x000000015a55ee2c XGBoosterPredictFromDMatrix + 1200\n  [bt] (3) 4   libffi.8.dylib                      0x000000010328004c ffi_call_SYSV + 76\n  [bt] (4) 5   libffi.8.dylib                      0x000000010327d74c ffi_call_int + 1208\n  [bt] (5) 6   _ctypes.cpython-311-darwin.so       0x000000010325cbb4 _ctypes_callproc + 1208\n  [bt] (6) 7   _ctypes.cpython-311-darwin.so       0x0000000103256e34 PyCFuncPtr_call + 1188\n  [bt] (7) 8   python3.11                          0x000000010274b7d8 _PyObject_MakeTpCall + 332\n  [bt] (8) 9   python3.11                          0x000000010284bebc _PyEval_EvalFrameDefault + 47116\n\n",
      "\nThe above exception was the direct cause of the following exception:\n",
      "\u001B[0;31mValueError\u001B[0m                                Traceback (most recent call last)",
      "Cell \u001B[0;32mIn[9], line 4\u001B[0m\n\u001B[1;32m      1\u001B[0m \u001B[38;5;66;03m#features = TrainTest_Data\u001B[39;00m\n\u001B[1;32m      3\u001B[0m explainer \u001B[38;5;241m=\u001B[39m shap\u001B[38;5;241m.\u001B[39mExplainer(xgb_model)\n\u001B[0;32m----> 4\u001B[0m shap_values \u001B[38;5;241m=\u001B[39m \u001B[43mexplainer\u001B[49m\u001B[38;5;241;43m.\u001B[39;49m\u001B[43mshap_values\u001B[49m\u001B[43m(\u001B[49m\u001B[43mdataset\u001B[49m\u001B[43m)\u001B[49m\n",
      "File \u001B[0;32m~/anaconda3/lib/python3.11/site-packages/shap/explainers/_tree.py:411\u001B[0m, in \u001B[0;36mTreeExplainer.shap_values\u001B[0;34m(self, X, y, tree_limit, approximate, check_additivity, from_call)\u001B[0m\n\u001B[1;32m    406\u001B[0m \u001B[38;5;28;01mexcept\u001B[39;00m \u001B[38;5;167;01mValueError\u001B[39;00m \u001B[38;5;28;01mas\u001B[39;00m e:\n\u001B[1;32m    407\u001B[0m     emsg \u001B[38;5;241m=\u001B[39m (\n\u001B[1;32m    408\u001B[0m         \u001B[38;5;124m\"\u001B[39m\u001B[38;5;124mThis reshape error is often caused by passing a bad data matrix to SHAP. \u001B[39m\u001B[38;5;124m\"\u001B[39m\n\u001B[1;32m    409\u001B[0m         \u001B[38;5;124m\"\u001B[39m\u001B[38;5;124mSee https://github.com/shap/shap/issues/580.\u001B[39m\u001B[38;5;124m\"\u001B[39m\n\u001B[1;32m    410\u001B[0m     )\n\u001B[0;32m--> 411\u001B[0m     \u001B[38;5;28;01mraise\u001B[39;00m \u001B[38;5;167;01mValueError\u001B[39;00m(emsg) \u001B[38;5;28;01mfrom\u001B[39;00m \u001B[38;5;21;01me\u001B[39;00m\n\u001B[1;32m    413\u001B[0m \u001B[38;5;28;01mif\u001B[39;00m check_additivity \u001B[38;5;129;01mand\u001B[39;00m \u001B[38;5;28mself\u001B[39m\u001B[38;5;241m.\u001B[39mmodel\u001B[38;5;241m.\u001B[39mmodel_output \u001B[38;5;241m==\u001B[39m \u001B[38;5;124m\"\u001B[39m\u001B[38;5;124mraw\u001B[39m\u001B[38;5;124m\"\u001B[39m:\n\u001B[1;32m    414\u001B[0m     xgb_tree_limit \u001B[38;5;241m=\u001B[39m tree_limit \u001B[38;5;241m/\u001B[39m\u001B[38;5;241m/\u001B[39m \u001B[38;5;28mself\u001B[39m\u001B[38;5;241m.\u001B[39mmodel\u001B[38;5;241m.\u001B[39mnum_stacked_models\n",
      "\u001B[0;31mValueError\u001B[0m: This reshape error is often caused by passing a bad data matrix to SHAP. See https://github.com/shap/shap/issues/580."
     ]
    }
   ],
   "source": [
    "#features = TrainTest_Data\n",
    "\n",
    "explainer = shap.Explainer(xgb_model)\n",
    "shap_values = explainer.shap_values(dataset)"
   ],
   "metadata": {
    "collapsed": false,
    "ExecuteTime": {
     "end_time": "2024-03-11T07:37:43.018810Z",
     "start_time": "2024-03-11T07:37:41.713972Z"
    }
   },
   "id": "ea9c30ee6d067954"
  },
  {
   "cell_type": "code",
   "execution_count": null,
   "outputs": [],
   "source": [],
   "metadata": {
    "collapsed": false
   },
   "id": "ff0536fc4c17c2ac"
  },
  {
   "cell_type": "markdown",
   "source": [
    "**Prepare SHAP Explainer & Calculate SHAP Values**"
   ],
   "metadata": {
    "collapsed": false
   },
   "id": "c185906fe4a00d3e"
  }
 ],
 "metadata": {
  "kernelspec": {
   "display_name": "Python 3",
   "language": "python",
   "name": "python3"
  },
  "language_info": {
   "codemirror_mode": {
    "name": "ipython",
    "version": 2
   },
   "file_extension": ".py",
   "mimetype": "text/x-python",
   "name": "python",
   "nbconvert_exporter": "python",
   "pygments_lexer": "ipython2",
   "version": "2.7.6"
  }
 },
 "nbformat": 4,
 "nbformat_minor": 5
}
