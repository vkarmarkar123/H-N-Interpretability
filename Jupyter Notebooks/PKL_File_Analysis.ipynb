{
 "cells": [
  {
   "cell_type": "code",
   "execution_count": 4,
   "id": "initial_id",
   "metadata": {
    "collapsed": true,
    "ExecuteTime": {
     "end_time": "2024-02-01T19:55:14.323548Z",
     "start_time": "2024-02-01T19:55:14.318617Z"
    }
   },
   "outputs": [],
   "source": [
    "import pickle\n",
    "import tkinter as tk\n",
    "from tkinter import filedialog\n",
    "import pickle\n",
    "import shap\n",
    "import pandas as pd"
   ]
  },
  {
   "cell_type": "markdown",
   "source": [
    "**Open a PKL file and get its contents**"
   ],
   "metadata": {
    "collapsed": false
   },
   "id": "273e933d0241333c"
  },
  {
   "cell_type": "code",
   "execution_count": 5,
   "outputs": [],
   "source": [
    "def load_pickle_file():\n",
    "    root = tk.Tk()\n",
    "    root.withdraw()\n",
    "    file_path = filedialog.askopenfilename(filetypes=[(\"Pickle files\", \"*.pkl\")])\n",
    "    \n",
    "    if file_path:\n",
    "        with open(file_path, 'rb') as file:\n",
    "            data = pickle.load(file)\n",
    "        root.destroy()  # Close the tkinter root window\n",
    "        return data\n",
    "    else:\n",
    "        print(\"No file selected.\")\n",
    "        root.destroy()  # Close the tkinter root window\n",
    "        return None"
   ],
   "metadata": {
    "collapsed": false,
    "ExecuteTime": {
     "end_time": "2024-02-01T19:55:18.838083Z",
     "start_time": "2024-02-01T19:55:18.810769Z"
    }
   },
   "id": "e4689ef4ba73acb"
  },
  {
   "cell_type": "code",
   "execution_count": 7,
   "outputs": [
    {
     "name": "stderr",
     "output_type": "stream",
     "text": [
      "2024-02-01 11:55:54.969 python[73430:2791981] +[CATransaction synchronize] called within transaction\n",
      "2024-02-01 11:55:55.009 python[73430:2791981] +[CATransaction synchronize] called within transaction\n",
      "2024-02-01 11:55:56.988 python[73430:2791981] +[CATransaction synchronize] called within transaction\n"
     ]
    },
    {
     "data": {
      "text/plain": "XGBClassifier(base_score=None, booster=None, callbacks=None,\n              colsample_bylevel=None, colsample_bynode=None,\n              colsample_bytree=None, device=None, early_stopping_rounds=None,\n              enable_categorical=False, eval_metric=None, feature_types=None,\n              gamma=None, grow_policy=None, importance_type=None,\n              interaction_constraints=None, learning_rate=None, max_bin=None,\n              max_cat_threshold=None, max_cat_to_onehot=None,\n              max_delta_step=None, max_depth=None, max_leaves=None,\n              min_child_weight=None, missing=nan, monotone_constraints=None,\n              multi_strategy=None, n_estimators=None, n_jobs=None,\n              num_parallel_tree=None, random_state=None, ...)",
      "text/html": "<style>#sk-container-id-1 {color: black;}#sk-container-id-1 pre{padding: 0;}#sk-container-id-1 div.sk-toggleable {background-color: white;}#sk-container-id-1 label.sk-toggleable__label {cursor: pointer;display: block;width: 100%;margin-bottom: 0;padding: 0.3em;box-sizing: border-box;text-align: center;}#sk-container-id-1 label.sk-toggleable__label-arrow:before {content: \"▸\";float: left;margin-right: 0.25em;color: #696969;}#sk-container-id-1 label.sk-toggleable__label-arrow:hover:before {color: black;}#sk-container-id-1 div.sk-estimator:hover label.sk-toggleable__label-arrow:before {color: black;}#sk-container-id-1 div.sk-toggleable__content {max-height: 0;max-width: 0;overflow: hidden;text-align: left;background-color: #f0f8ff;}#sk-container-id-1 div.sk-toggleable__content pre {margin: 0.2em;color: black;border-radius: 0.25em;background-color: #f0f8ff;}#sk-container-id-1 input.sk-toggleable__control:checked~div.sk-toggleable__content {max-height: 200px;max-width: 100%;overflow: auto;}#sk-container-id-1 input.sk-toggleable__control:checked~label.sk-toggleable__label-arrow:before {content: \"▾\";}#sk-container-id-1 div.sk-estimator input.sk-toggleable__control:checked~label.sk-toggleable__label {background-color: #d4ebff;}#sk-container-id-1 div.sk-label input.sk-toggleable__control:checked~label.sk-toggleable__label {background-color: #d4ebff;}#sk-container-id-1 input.sk-hidden--visually {border: 0;clip: rect(1px 1px 1px 1px);clip: rect(1px, 1px, 1px, 1px);height: 1px;margin: -1px;overflow: hidden;padding: 0;position: absolute;width: 1px;}#sk-container-id-1 div.sk-estimator {font-family: monospace;background-color: #f0f8ff;border: 1px dotted black;border-radius: 0.25em;box-sizing: border-box;margin-bottom: 0.5em;}#sk-container-id-1 div.sk-estimator:hover {background-color: #d4ebff;}#sk-container-id-1 div.sk-parallel-item::after {content: \"\";width: 100%;border-bottom: 1px solid gray;flex-grow: 1;}#sk-container-id-1 div.sk-label:hover label.sk-toggleable__label {background-color: #d4ebff;}#sk-container-id-1 div.sk-serial::before {content: \"\";position: absolute;border-left: 1px solid gray;box-sizing: border-box;top: 0;bottom: 0;left: 50%;z-index: 0;}#sk-container-id-1 div.sk-serial {display: flex;flex-direction: column;align-items: center;background-color: white;padding-right: 0.2em;padding-left: 0.2em;position: relative;}#sk-container-id-1 div.sk-item {position: relative;z-index: 1;}#sk-container-id-1 div.sk-parallel {display: flex;align-items: stretch;justify-content: center;background-color: white;position: relative;}#sk-container-id-1 div.sk-item::before, #sk-container-id-1 div.sk-parallel-item::before {content: \"\";position: absolute;border-left: 1px solid gray;box-sizing: border-box;top: 0;bottom: 0;left: 50%;z-index: -1;}#sk-container-id-1 div.sk-parallel-item {display: flex;flex-direction: column;z-index: 1;position: relative;background-color: white;}#sk-container-id-1 div.sk-parallel-item:first-child::after {align-self: flex-end;width: 50%;}#sk-container-id-1 div.sk-parallel-item:last-child::after {align-self: flex-start;width: 50%;}#sk-container-id-1 div.sk-parallel-item:only-child::after {width: 0;}#sk-container-id-1 div.sk-dashed-wrapped {border: 1px dashed gray;margin: 0 0.4em 0.5em 0.4em;box-sizing: border-box;padding-bottom: 0.4em;background-color: white;}#sk-container-id-1 div.sk-label label {font-family: monospace;font-weight: bold;display: inline-block;line-height: 1.2em;}#sk-container-id-1 div.sk-label-container {text-align: center;}#sk-container-id-1 div.sk-container {/* jupyter's `normalize.less` sets `[hidden] { display: none; }` but bootstrap.min.css set `[hidden] { display: none !important; }` so we also need the `!important` here to be able to override the default hidden behavior on the sphinx rendered scikit-learn.org. See: https://github.com/scikit-learn/scikit-learn/issues/21755 */display: inline-block !important;position: relative;}#sk-container-id-1 div.sk-text-repr-fallback {display: none;}</style><div id=\"sk-container-id-1\" class=\"sk-top-container\"><div class=\"sk-text-repr-fallback\"><pre>XGBClassifier(base_score=None, booster=None, callbacks=None,\n              colsample_bylevel=None, colsample_bynode=None,\n              colsample_bytree=None, device=None, early_stopping_rounds=None,\n              enable_categorical=False, eval_metric=None, feature_types=None,\n              gamma=None, grow_policy=None, importance_type=None,\n              interaction_constraints=None, learning_rate=None, max_bin=None,\n              max_cat_threshold=None, max_cat_to_onehot=None,\n              max_delta_step=None, max_depth=None, max_leaves=None,\n              min_child_weight=None, missing=nan, monotone_constraints=None,\n              multi_strategy=None, n_estimators=None, n_jobs=None,\n              num_parallel_tree=None, random_state=None, ...)</pre><b>In a Jupyter environment, please rerun this cell to show the HTML representation or trust the notebook. <br />On GitHub, the HTML representation is unable to render, please try loading this page with nbviewer.org.</b></div><div class=\"sk-container\" hidden><div class=\"sk-item\"><div class=\"sk-estimator sk-toggleable\"><input class=\"sk-toggleable__control sk-hidden--visually\" id=\"sk-estimator-id-1\" type=\"checkbox\" checked><label for=\"sk-estimator-id-1\" class=\"sk-toggleable__label sk-toggleable__label-arrow\">XGBClassifier</label><div class=\"sk-toggleable__content\"><pre>XGBClassifier(base_score=None, booster=None, callbacks=None,\n              colsample_bylevel=None, colsample_bynode=None,\n              colsample_bytree=None, device=None, early_stopping_rounds=None,\n              enable_categorical=False, eval_metric=None, feature_types=None,\n              gamma=None, grow_policy=None, importance_type=None,\n              interaction_constraints=None, learning_rate=None, max_bin=None,\n              max_cat_threshold=None, max_cat_to_onehot=None,\n              max_delta_step=None, max_depth=None, max_leaves=None,\n              min_child_weight=None, missing=nan, monotone_constraints=None,\n              multi_strategy=None, n_estimators=None, n_jobs=None,\n              num_parallel_tree=None, random_state=None, ...)</pre></div></div></div></div></div>"
     },
     "execution_count": 7,
     "metadata": {},
     "output_type": "execute_result"
    }
   ],
   "source": [
    "data = load_pickle_file()\n",
    "data['model']"
   ],
   "metadata": {
    "collapsed": false,
    "ExecuteTime": {
     "end_time": "2024-02-01T19:55:58.321692Z",
     "start_time": "2024-02-01T19:55:54.818332Z"
    }
   },
   "id": "c13d3f30187fc023"
  },
  {
   "cell_type": "markdown",
   "source": [
    "**Get the data from HN_P2C.csv into a dataframe**"
   ],
   "metadata": {
    "collapsed": false
   },
   "id": "96138f11c080becd"
  },
  {
   "cell_type": "code",
   "execution_count": 11,
   "outputs": [
    {
     "name": "stderr",
     "output_type": "stream",
     "text": [
      "Columns (12,17,20) have mixed types. Specify dtype option on import or set low_memory=False.\n"
     ]
    },
    {
     "data": {
      "text/plain": "      lifet_avg_ch1  lifet_avg_ch2  lifet_avg_ch3  int_ratio_ch1  \\\n1369       3.677834       4.372698       4.673487       0.383847   \n1370       3.725055       4.311057       4.678097       0.399188   \n1371       3.809186       4.337621       4.262062       0.391038   \n1372       3.822145       4.295335       3.905487       0.389809   \n1373       3.719731       4.497713       4.277077       0.370316   \n\n      int_ratio_ch2  int_ratio_ch3  Laguerre_coeffs_1_ch1  \\\n1369       0.401777       0.214376               2.287684   \n1370       0.388146       0.212665               1.963396   \n1371       0.394803       0.214159               1.712471   \n1372       0.391994       0.218196               1.871546   \n1373       0.402411       0.227272               2.116811   \n\n      Laguerre_coeffs_2_ch1  Laguerre_coeffs_3_ch1  Laguerre_coeffs_4_ch1  \\\n1369               0.045487               0.345883              -0.038626   \n1370               0.122349               0.386040               0.060966   \n1371               0.112410               0.298065               0.003290   \n1372               0.083860               0.299186              -0.000846   \n1373               0.068791               0.330150              -0.037806   \n\n      ...  Laguerre_coeffs_3_ch3  Laguerre_coeffs_4_ch3  \\\n1369  ...               0.177757              -0.046781   \n1370  ...               0.163542              -0.023193   \n1371  ...               0.158346              -0.023289   \n1372  ...               0.165047              -0.010450   \n1373  ...               0.204938              -0.047447   \n\n      Laguerre_coeffs_5_ch3  Laguerre_coeffs_6_ch3  Laguerre_coeffs_7_ch3  \\\n1369               0.050329              -0.042205               0.011809   \n1370               0.078119               0.008415               0.037673   \n1371               0.039994              -0.022972               0.003650   \n1372               0.045931              -0.018878               0.000380   \n1373               0.051589              -0.031742               0.002631   \n\n      Laguerre_coeffs_8_ch3  Laguerre_coeffs_9_ch3  Laguerre_coeffs_10_ch3  \\\n1369              -0.012513               0.004941               -0.002295   \n1370               0.003595               0.011348                0.000742   \n1371              -0.004216              -0.001125               -0.000643   \n1372              -0.006706              -0.001397               -0.002114   \n1373              -0.009467              -0.000464               -0.000858   \n\n      Laguerre_coeffs_11_ch3  Laguerre_coeffs_12_ch3  \n1369                0.001451               -0.000368  \n1370                0.001862               -0.000485  \n1371               -0.000201               -0.000680  \n1372                0.000458               -0.000604  \n1373                0.000830                0.000674  \n\n[5 rows x 42 columns]",
      "text/html": "<div>\n<style scoped>\n    .dataframe tbody tr th:only-of-type {\n        vertical-align: middle;\n    }\n\n    .dataframe tbody tr th {\n        vertical-align: top;\n    }\n\n    .dataframe thead th {\n        text-align: right;\n    }\n</style>\n<table border=\"1\" class=\"dataframe\">\n  <thead>\n    <tr style=\"text-align: right;\">\n      <th></th>\n      <th>lifet_avg_ch1</th>\n      <th>lifet_avg_ch2</th>\n      <th>lifet_avg_ch3</th>\n      <th>int_ratio_ch1</th>\n      <th>int_ratio_ch2</th>\n      <th>int_ratio_ch3</th>\n      <th>Laguerre_coeffs_1_ch1</th>\n      <th>Laguerre_coeffs_2_ch1</th>\n      <th>Laguerre_coeffs_3_ch1</th>\n      <th>Laguerre_coeffs_4_ch1</th>\n      <th>...</th>\n      <th>Laguerre_coeffs_3_ch3</th>\n      <th>Laguerre_coeffs_4_ch3</th>\n      <th>Laguerre_coeffs_5_ch3</th>\n      <th>Laguerre_coeffs_6_ch3</th>\n      <th>Laguerre_coeffs_7_ch3</th>\n      <th>Laguerre_coeffs_8_ch3</th>\n      <th>Laguerre_coeffs_9_ch3</th>\n      <th>Laguerre_coeffs_10_ch3</th>\n      <th>Laguerre_coeffs_11_ch3</th>\n      <th>Laguerre_coeffs_12_ch3</th>\n    </tr>\n  </thead>\n  <tbody>\n    <tr>\n      <th>1369</th>\n      <td>3.677834</td>\n      <td>4.372698</td>\n      <td>4.673487</td>\n      <td>0.383847</td>\n      <td>0.401777</td>\n      <td>0.214376</td>\n      <td>2.287684</td>\n      <td>0.045487</td>\n      <td>0.345883</td>\n      <td>-0.038626</td>\n      <td>...</td>\n      <td>0.177757</td>\n      <td>-0.046781</td>\n      <td>0.050329</td>\n      <td>-0.042205</td>\n      <td>0.011809</td>\n      <td>-0.012513</td>\n      <td>0.004941</td>\n      <td>-0.002295</td>\n      <td>0.001451</td>\n      <td>-0.000368</td>\n    </tr>\n    <tr>\n      <th>1370</th>\n      <td>3.725055</td>\n      <td>4.311057</td>\n      <td>4.678097</td>\n      <td>0.399188</td>\n      <td>0.388146</td>\n      <td>0.212665</td>\n      <td>1.963396</td>\n      <td>0.122349</td>\n      <td>0.386040</td>\n      <td>0.060966</td>\n      <td>...</td>\n      <td>0.163542</td>\n      <td>-0.023193</td>\n      <td>0.078119</td>\n      <td>0.008415</td>\n      <td>0.037673</td>\n      <td>0.003595</td>\n      <td>0.011348</td>\n      <td>0.000742</td>\n      <td>0.001862</td>\n      <td>-0.000485</td>\n    </tr>\n    <tr>\n      <th>1371</th>\n      <td>3.809186</td>\n      <td>4.337621</td>\n      <td>4.262062</td>\n      <td>0.391038</td>\n      <td>0.394803</td>\n      <td>0.214159</td>\n      <td>1.712471</td>\n      <td>0.112410</td>\n      <td>0.298065</td>\n      <td>0.003290</td>\n      <td>...</td>\n      <td>0.158346</td>\n      <td>-0.023289</td>\n      <td>0.039994</td>\n      <td>-0.022972</td>\n      <td>0.003650</td>\n      <td>-0.004216</td>\n      <td>-0.001125</td>\n      <td>-0.000643</td>\n      <td>-0.000201</td>\n      <td>-0.000680</td>\n    </tr>\n    <tr>\n      <th>1372</th>\n      <td>3.822145</td>\n      <td>4.295335</td>\n      <td>3.905487</td>\n      <td>0.389809</td>\n      <td>0.391994</td>\n      <td>0.218196</td>\n      <td>1.871546</td>\n      <td>0.083860</td>\n      <td>0.299186</td>\n      <td>-0.000846</td>\n      <td>...</td>\n      <td>0.165047</td>\n      <td>-0.010450</td>\n      <td>0.045931</td>\n      <td>-0.018878</td>\n      <td>0.000380</td>\n      <td>-0.006706</td>\n      <td>-0.001397</td>\n      <td>-0.002114</td>\n      <td>0.000458</td>\n      <td>-0.000604</td>\n    </tr>\n    <tr>\n      <th>1373</th>\n      <td>3.719731</td>\n      <td>4.497713</td>\n      <td>4.277077</td>\n      <td>0.370316</td>\n      <td>0.402411</td>\n      <td>0.227272</td>\n      <td>2.116811</td>\n      <td>0.068791</td>\n      <td>0.330150</td>\n      <td>-0.037806</td>\n      <td>...</td>\n      <td>0.204938</td>\n      <td>-0.047447</td>\n      <td>0.051589</td>\n      <td>-0.031742</td>\n      <td>0.002631</td>\n      <td>-0.009467</td>\n      <td>-0.000464</td>\n      <td>-0.000858</td>\n      <td>0.000830</td>\n      <td>0.000674</td>\n    </tr>\n  </tbody>\n</table>\n<p>5 rows × 42 columns</p>\n</div>"
     },
     "execution_count": 11,
     "metadata": {},
     "output_type": "execute_result"
    }
   ],
   "source": [
    "df = pd.read_csv('./HN_P2C.csv')\n",
    "df_new = df[df['CLabel'].isin(['Healthy', 'Cancer'])]\n",
    "df_new.to_csv('df_new.csv', index=False)\n",
    "df_new.head()\n",
    "features_of_interest = [\n",
    "    'lifet_avg_ch1', 'lifet_avg_ch2', 'lifet_avg_ch3', \n",
    "    'int_ratio_ch1', 'int_ratio_ch2', 'int_ratio_ch3',\n",
    "    'Laguerre_coeffs_1_ch1', 'Laguerre_coeffs_2_ch1', 'Laguerre_coeffs_3_ch1', \n",
    "    'Laguerre_coeffs_4_ch1', 'Laguerre_coeffs_5_ch1', 'Laguerre_coeffs_6_ch1', \n",
    "    'Laguerre_coeffs_7_ch1', 'Laguerre_coeffs_8_ch1', 'Laguerre_coeffs_9_ch1', \n",
    "    'Laguerre_coeffs_10_ch1', 'Laguerre_coeffs_11_ch1', 'Laguerre_coeffs_12_ch1',\n",
    "    'Laguerre_coeffs_1_ch2', 'Laguerre_coeffs_2_ch2', 'Laguerre_coeffs_3_ch2', \n",
    "    'Laguerre_coeffs_4_ch2', 'Laguerre_coeffs_5_ch2', 'Laguerre_coeffs_6_ch2', \n",
    "    'Laguerre_coeffs_7_ch2', 'Laguerre_coeffs_8_ch2', 'Laguerre_coeffs_9_ch2', \n",
    "    'Laguerre_coeffs_10_ch2', 'Laguerre_coeffs_11_ch2', 'Laguerre_coeffs_12_ch2',\n",
    "    'Laguerre_coeffs_1_ch3', 'Laguerre_coeffs_2_ch3', 'Laguerre_coeffs_3_ch3', \n",
    "    'Laguerre_coeffs_4_ch3', 'Laguerre_coeffs_5_ch3', 'Laguerre_coeffs_6_ch3', \n",
    "    'Laguerre_coeffs_7_ch3', 'Laguerre_coeffs_8_ch3', 'Laguerre_coeffs_9_ch3', \n",
    "    'Laguerre_coeffs_10_ch3', 'Laguerre_coeffs_11_ch3', 'Laguerre_coeffs_12_ch3'\n",
    "]\n",
    "df = df_new[features_of_interest]\n",
    "df.head()"
   ],
   "metadata": {
    "collapsed": false,
    "ExecuteTime": {
     "end_time": "2024-01-29T16:22:23.540511Z",
     "start_time": "2024-01-29T16:22:17.408910Z"
    }
   },
   "id": "60e7dd2a2e0719ff"
  },
  {
   "cell_type": "markdown",
   "source": [
    "**Call Function for the user to select a .pkl file**"
   ],
   "metadata": {
    "collapsed": false
   },
   "id": "f662dbfc4334d41d"
  },
  {
   "cell_type": "code",
   "execution_count": 12,
   "outputs": [
    {
     "name": "stderr",
     "output_type": "stream",
     "text": [
      "2024-01-29 08:22:28.624 python[9260:259042] +[CATransaction synchronize] called within transaction\n"
     ]
    }
   ],
   "source": [
    "data = load_pickle_file()\n",
    "\n",
    "if data is not None:\n",
    "    # model_features = [\n",
    "    # 'lifet_avg_ch1', 'lifet_avg_ch2', 'lifet_avg_ch3', \n",
    "    # 'spec_int_ch1', 'spec_int_ch2', 'spec_int_ch3', \n",
    "    # 'int_ratio_ch1', 'int_ratio_ch2', 'int_ratio_ch3', \n",
    "    # 'snr_ch1', 'snr_ch2', 'snr_ch3', \n",
    "    # 'Laguerre_coeffs_1_ch1', 'Laguerre_coeffs_2_ch1', 'Laguerre_coeffs_3_ch1', \n",
    "    # 'Laguerre_coeffs_4_ch1', 'Laguerre_coeffs_5_ch1', 'Laguerre_coeffs_6_ch1', \n",
    "    # 'Laguerre_coeffs_7_ch1', 'Laguerre_coeffs_8_ch1', 'Laguerre_coeffs_9_ch1', \n",
    "    # 'Laguerre_coeffs_10_ch1', 'Laguerre_coeffs_11_ch1', 'Laguerre_coeffs_12_ch1', \n",
    "    # 'Laguerre_coeffs_1_ch2', 'Laguerre_coeffs_2_ch2', 'Laguerre_coeffs_3_ch2', \n",
    "    # 'Laguerre_coeffs_4_ch2', 'Laguerre_coeffs_5_ch2', 'Laguerre_coeffs_6_ch2', \n",
    "    # 'Laguerre_coeffs_7_ch2', 'Laguerre_coeffs_8_ch2', 'Laguerre_coeffs_9_ch2', \n",
    "    # 'Laguerre_coeffs_10_ch2', 'Laguerre_coeffs_11_ch2', 'Laguerre_coeffs_12_ch2', \n",
    "    # 'Laguerre_coeffs_1_ch3', 'Laguerre_coeffs_2_ch3', 'Laguerre_coeffs_3_ch3', \n",
    "    # 'Laguerre_coeffs_4_ch3', 'Laguerre_coeffs_5_ch3', 'Laguerre_coeffs_6_ch3', \n",
    "    # 'Laguerre_coeffs_7_ch3', 'Laguerre_coeffs_8_ch3', 'Laguerre_coeffs_9_ch3', \n",
    "    # 'Laguerre_coeffs_10_ch3', 'Laguerre_coeffs_11_ch3', 'Laguerre_coeffs_12_ch3'\n",
    "    # ]\n",
    "    model = data['model']\n",
    "    dataset = data['post_processing_data']\n",
    "    # adjusted_dataset = dataset.drop(['WLI_x_coord', 'score', 'WLI_y_coord', 'gt', 'WLI_frame_n', 'Case', 'Run'], axis=1, errors='ignore')\n",
    "    # adjusted_dataset = adjusted_dataset[model_features]\n",
    "    "
   ],
   "metadata": {
    "collapsed": false,
    "ExecuteTime": {
     "end_time": "2024-01-29T16:22:32.065385Z",
     "start_time": "2024-01-29T16:22:26.777430Z"
    }
   },
   "id": "af95a7250e88fb92"
  },
  {
   "cell_type": "code",
   "execution_count": 13,
   "outputs": [
    {
     "data": {
      "text/plain": "        Case  Run    snr_ch1    snr_ch2    snr_ch3  WLI_frame_n  WLI_x_coord  \\\n511612   170    2  55.704300  55.393034  54.403223           15          631   \n511613   170    2  53.731903  54.760765  51.727847           15          631   \n511614   170    2  54.003230  55.346427  53.164215           16          639   \n511615   170    2  51.710158  51.210164  50.018434           16          639   \n511616   170    2  50.549549  51.228330  53.102477           16          639   \n...      ...  ...        ...        ...        ...          ...          ...   \n512782   170    2  53.557013  52.332017  54.126046         1711          513   \n512783   170    2  52.147328  53.499322  50.886574         1711          513   \n512784   170    2  53.577052  54.818158  55.389933         1711          513   \n512785   170    2  52.273561  53.361657  51.863266         1711          513   \n512786   170    2  50.309343  50.933053  52.280509         1711          513   \n\n        WLI_y_coord     score  gt  \n511612           99  0.002971   0  \n511613           99  0.000308   0  \n511614          102  0.002821   0  \n511615          102  0.003646   0  \n511616          102  0.010020   0  \n...             ...       ...  ..  \n512782          185  0.128708   0  \n512783          185  0.112700   0  \n512784          185  0.210239   0  \n512785          185  0.225831   0  \n512786          185  0.152396   0  \n\n[1175 rows x 10 columns]",
      "text/html": "<div>\n<style scoped>\n    .dataframe tbody tr th:only-of-type {\n        vertical-align: middle;\n    }\n\n    .dataframe tbody tr th {\n        vertical-align: top;\n    }\n\n    .dataframe thead th {\n        text-align: right;\n    }\n</style>\n<table border=\"1\" class=\"dataframe\">\n  <thead>\n    <tr style=\"text-align: right;\">\n      <th></th>\n      <th>Case</th>\n      <th>Run</th>\n      <th>snr_ch1</th>\n      <th>snr_ch2</th>\n      <th>snr_ch3</th>\n      <th>WLI_frame_n</th>\n      <th>WLI_x_coord</th>\n      <th>WLI_y_coord</th>\n      <th>score</th>\n      <th>gt</th>\n    </tr>\n  </thead>\n  <tbody>\n    <tr>\n      <th>511612</th>\n      <td>170</td>\n      <td>2</td>\n      <td>55.704300</td>\n      <td>55.393034</td>\n      <td>54.403223</td>\n      <td>15</td>\n      <td>631</td>\n      <td>99</td>\n      <td>0.002971</td>\n      <td>0</td>\n    </tr>\n    <tr>\n      <th>511613</th>\n      <td>170</td>\n      <td>2</td>\n      <td>53.731903</td>\n      <td>54.760765</td>\n      <td>51.727847</td>\n      <td>15</td>\n      <td>631</td>\n      <td>99</td>\n      <td>0.000308</td>\n      <td>0</td>\n    </tr>\n    <tr>\n      <th>511614</th>\n      <td>170</td>\n      <td>2</td>\n      <td>54.003230</td>\n      <td>55.346427</td>\n      <td>53.164215</td>\n      <td>16</td>\n      <td>639</td>\n      <td>102</td>\n      <td>0.002821</td>\n      <td>0</td>\n    </tr>\n    <tr>\n      <th>511615</th>\n      <td>170</td>\n      <td>2</td>\n      <td>51.710158</td>\n      <td>51.210164</td>\n      <td>50.018434</td>\n      <td>16</td>\n      <td>639</td>\n      <td>102</td>\n      <td>0.003646</td>\n      <td>0</td>\n    </tr>\n    <tr>\n      <th>511616</th>\n      <td>170</td>\n      <td>2</td>\n      <td>50.549549</td>\n      <td>51.228330</td>\n      <td>53.102477</td>\n      <td>16</td>\n      <td>639</td>\n      <td>102</td>\n      <td>0.010020</td>\n      <td>0</td>\n    </tr>\n    <tr>\n      <th>...</th>\n      <td>...</td>\n      <td>...</td>\n      <td>...</td>\n      <td>...</td>\n      <td>...</td>\n      <td>...</td>\n      <td>...</td>\n      <td>...</td>\n      <td>...</td>\n      <td>...</td>\n    </tr>\n    <tr>\n      <th>512782</th>\n      <td>170</td>\n      <td>2</td>\n      <td>53.557013</td>\n      <td>52.332017</td>\n      <td>54.126046</td>\n      <td>1711</td>\n      <td>513</td>\n      <td>185</td>\n      <td>0.128708</td>\n      <td>0</td>\n    </tr>\n    <tr>\n      <th>512783</th>\n      <td>170</td>\n      <td>2</td>\n      <td>52.147328</td>\n      <td>53.499322</td>\n      <td>50.886574</td>\n      <td>1711</td>\n      <td>513</td>\n      <td>185</td>\n      <td>0.112700</td>\n      <td>0</td>\n    </tr>\n    <tr>\n      <th>512784</th>\n      <td>170</td>\n      <td>2</td>\n      <td>53.577052</td>\n      <td>54.818158</td>\n      <td>55.389933</td>\n      <td>1711</td>\n      <td>513</td>\n      <td>185</td>\n      <td>0.210239</td>\n      <td>0</td>\n    </tr>\n    <tr>\n      <th>512785</th>\n      <td>170</td>\n      <td>2</td>\n      <td>52.273561</td>\n      <td>53.361657</td>\n      <td>51.863266</td>\n      <td>1711</td>\n      <td>513</td>\n      <td>185</td>\n      <td>0.225831</td>\n      <td>0</td>\n    </tr>\n    <tr>\n      <th>512786</th>\n      <td>170</td>\n      <td>2</td>\n      <td>50.309343</td>\n      <td>50.933053</td>\n      <td>52.280509</td>\n      <td>1711</td>\n      <td>513</td>\n      <td>185</td>\n      <td>0.152396</td>\n      <td>0</td>\n    </tr>\n  </tbody>\n</table>\n<p>1175 rows × 10 columns</p>\n</div>"
     },
     "execution_count": 13,
     "metadata": {},
     "output_type": "execute_result"
    }
   ],
   "source": [
    "model\n",
    "dataset"
   ],
   "metadata": {
    "collapsed": false,
    "ExecuteTime": {
     "end_time": "2024-01-29T16:22:36.502047Z",
     "start_time": "2024-01-29T16:22:36.486625Z"
    }
   },
   "id": "a576769271d5ef63"
  },
  {
   "cell_type": "code",
   "execution_count": 16,
   "outputs": [
    {
     "name": "stderr",
     "output_type": "stream",
     "text": [
      "[08:39:48] WARNING: /Users/runner/work/xgboost/xgboost/src/c_api/c_api.cc:1240: Saving into deprecated binary model format, please consider using `json` or `ubj`. Model format will default to JSON in XGBoost 2.2 if not specified.\n"
     ]
    },
    {
     "name": "stdout",
     "output_type": "stream",
     "text": [
      "Error during SHAP analysis: This reshape error is often caused by passing a bad data matrix to SHAP. See https://github.com/shap/shap/issues/580.\n"
     ]
    }
   ],
   "source": [
    "if data is not None:\n",
    "    # cols_to_drop = ['WLI_x_coord', 'score', 'WLI_y_coord', 'gt', 'WLI_frame_n', 'Case', 'Run']\n",
    "    # new_data = dataset.drop(columns=cols_to_drop, errors='ignore')\n",
    "    try:\n",
    "        explainer = shap.TreeExplainer(model)\n",
    "        shap_values = explainer.shap_values(df)\n",
    "    \n",
    "        # Visualize the SHAP values\n",
    "        shap.summary_plot(shap_values, df)\n",
    "    except Exception as e:\n",
    "        print(\"Error during SHAP analysis:\", e)"
   ],
   "metadata": {
    "collapsed": false,
    "ExecuteTime": {
     "end_time": "2024-01-29T16:40:01.045356Z",
     "start_time": "2024-01-29T16:39:48.309184Z"
    }
   },
   "id": "815b37c46e0a7ae4"
  },
  {
   "cell_type": "markdown",
   "source": [
    "**Code to Generate the Error**"
   ],
   "metadata": {
    "collapsed": false
   },
   "id": "1a5b94babb2ee46f"
  },
  {
   "cell_type": "code",
   "execution_count": 20,
   "outputs": [
    {
     "name": "stdout",
     "output_type": "stream",
     "text": [
      "Error during model prediction: feature_names mismatch: ['lifet_avg_ch1', 'lifet_avg_ch2', 'lifet_avg_ch3', 'spec_int_ch1', 'spec_int_ch2', 'spec_int_ch3', 'int_ratio_ch1', 'int_ratio_ch2', 'int_ratio_ch3', 'snr_ch1', 'snr_ch2', 'snr_ch3', 'Laguerre_coeffs_1_ch1', 'Laguerre_coeffs_2_ch1', 'Laguerre_coeffs_3_ch1', 'Laguerre_coeffs_4_ch1', 'Laguerre_coeffs_5_ch1', 'Laguerre_coeffs_6_ch1', 'Laguerre_coeffs_7_ch1', 'Laguerre_coeffs_8_ch1', 'Laguerre_coeffs_9_ch1', 'Laguerre_coeffs_10_ch1', 'Laguerre_coeffs_11_ch1', 'Laguerre_coeffs_12_ch1', 'Laguerre_coeffs_1_ch2', 'Laguerre_coeffs_2_ch2', 'Laguerre_coeffs_3_ch2', 'Laguerre_coeffs_4_ch2', 'Laguerre_coeffs_5_ch2', 'Laguerre_coeffs_6_ch2', 'Laguerre_coeffs_7_ch2', 'Laguerre_coeffs_8_ch2', 'Laguerre_coeffs_9_ch2', 'Laguerre_coeffs_10_ch2', 'Laguerre_coeffs_11_ch2', 'Laguerre_coeffs_12_ch2', 'Laguerre_coeffs_1_ch3', 'Laguerre_coeffs_2_ch3', 'Laguerre_coeffs_3_ch3', 'Laguerre_coeffs_4_ch3', 'Laguerre_coeffs_5_ch3', 'Laguerre_coeffs_6_ch3', 'Laguerre_coeffs_7_ch3', 'Laguerre_coeffs_8_ch3', 'Laguerre_coeffs_9_ch3', 'Laguerre_coeffs_10_ch3', 'Laguerre_coeffs_11_ch3', 'Laguerre_coeffs_12_ch3'] ['Case', 'Run', 'snr_ch1', 'snr_ch2', 'snr_ch3', 'WLI_frame_n', 'WLI_x_coord', 'WLI_y_coord', 'score', 'gt']\n",
      "expected Laguerre_coeffs_2_ch1, Laguerre_coeffs_6_ch1, Laguerre_coeffs_3_ch1, Laguerre_coeffs_11_ch2, Laguerre_coeffs_9_ch1, Laguerre_coeffs_8_ch3, Laguerre_coeffs_10_ch3, Laguerre_coeffs_10_ch2, Laguerre_coeffs_4_ch2, Laguerre_coeffs_6_ch2, lifet_avg_ch3, Laguerre_coeffs_9_ch2, Laguerre_coeffs_4_ch1, lifet_avg_ch2, int_ratio_ch3, Laguerre_coeffs_11_ch1, Laguerre_coeffs_6_ch3, lifet_avg_ch1, spec_int_ch3, Laguerre_coeffs_2_ch3, spec_int_ch1, Laguerre_coeffs_5_ch1, Laguerre_coeffs_7_ch2, Laguerre_coeffs_5_ch2, Laguerre_coeffs_2_ch2, int_ratio_ch2, Laguerre_coeffs_7_ch1, Laguerre_coeffs_4_ch3, Laguerre_coeffs_10_ch1, Laguerre_coeffs_5_ch3, Laguerre_coeffs_9_ch3, Laguerre_coeffs_1_ch2, Laguerre_coeffs_12_ch3, Laguerre_coeffs_8_ch2, Laguerre_coeffs_3_ch2, Laguerre_coeffs_3_ch3, spec_int_ch2, Laguerre_coeffs_12_ch1, Laguerre_coeffs_1_ch3, Laguerre_coeffs_1_ch1, Laguerre_coeffs_11_ch3, Laguerre_coeffs_12_ch2, int_ratio_ch1, Laguerre_coeffs_7_ch3, Laguerre_coeffs_8_ch1 in input data\n",
      "training data did not have the following fields: WLI_x_coord, score, WLI_y_coord, gt, WLI_frame_n, Case, Run\n"
     ]
    }
   ],
   "source": [
    "try:\n",
    "    # Adjust the slicing as per your dataset\n",
    "    sample_data = dataset.iloc[0:10, :]\n",
    "    predictions = model.predict(sample_data)\n",
    "    print(\"Sample Predictions:\", predictions)\n",
    "except Exception as e:\n",
    "    print(\"Error during model prediction:\", e)"
   ],
   "metadata": {
    "collapsed": false,
    "ExecuteTime": {
     "end_time": "2024-01-29T06:56:54.225064Z",
     "start_time": "2024-01-29T06:56:54.219980Z"
    }
   },
   "id": "83db4b99569c7836"
  },
  {
   "cell_type": "code",
   "execution_count": null,
   "outputs": [],
   "source": [],
   "metadata": {
    "collapsed": false
   },
   "id": "afa1ff4cd1061d31"
  }
 ],
 "metadata": {
  "kernelspec": {
   "display_name": "Python 3",
   "language": "python",
   "name": "python3"
  },
  "language_info": {
   "codemirror_mode": {
    "name": "ipython",
    "version": 2
   },
   "file_extension": ".py",
   "mimetype": "text/x-python",
   "name": "python",
   "nbconvert_exporter": "python",
   "pygments_lexer": "ipython2",
   "version": "2.7.6"
  }
 },
 "nbformat": 4,
 "nbformat_minor": 5
}
