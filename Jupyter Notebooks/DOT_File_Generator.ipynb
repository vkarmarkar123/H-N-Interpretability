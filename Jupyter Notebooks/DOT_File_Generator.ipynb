{
 "cells": [
  {
   "cell_type": "code",
   "execution_count": 2,
   "id": "initial_id",
   "metadata": {
    "collapsed": true,
    "ExecuteTime": {
     "end_time": "2024-02-29T10:00:24.159729Z",
     "start_time": "2024-02-29T10:00:20.875854Z"
    }
   },
   "outputs": [],
   "source": [
    "import os\n",
    "import xgboost as xgb # Make sure you have the correct version\n",
    "import pickle"
   ]
  },
  {
   "cell_type": "code",
   "execution_count": 3,
   "outputs": [],
   "source": [
    "pkl_dir = '../V4_Anatomic_DT_LG'\n",
    "dot_dir = '../Decision_Tree_DOT_Files'\n",
    "if not os.path.exists(dot_dir):\n",
    "    os.makedirs(dot_dir)"
   ],
   "metadata": {
    "collapsed": false,
    "ExecuteTime": {
     "end_time": "2024-02-29T10:00:24.166834Z",
     "start_time": "2024-02-29T10:00:24.159968Z"
    }
   },
   "id": "5d41a71e16368698"
  },
  {
   "cell_type": "code",
   "execution_count": 4,
   "outputs": [
    {
     "name": "stdout",
     "output_type": "stream",
     "text": [
      "Dot file for 49.pkl saved to ../Decision_Tree_DOT_Files/49.dot\n",
      "Dot file for 61.pkl saved to ../Decision_Tree_DOT_Files/61.dot\n",
      "Dot file for 75.pkl saved to ../Decision_Tree_DOT_Files/75.dot\n",
      "Dot file for 74.pkl saved to ../Decision_Tree_DOT_Files/74.dot\n",
      "Dot file for 60.pkl saved to ../Decision_Tree_DOT_Files/60.dot\n",
      "Dot file for 48.pkl saved to ../Decision_Tree_DOT_Files/48.dot\n",
      "Dot file for 62.pkl saved to ../Decision_Tree_DOT_Files/62.dot\n",
      "Dot file for 89.pkl saved to ../Decision_Tree_DOT_Files/89.dot\n",
      "Dot file for 63.pkl saved to ../Decision_Tree_DOT_Files/63.dot\n",
      "Dot file for 77.pkl saved to ../Decision_Tree_DOT_Files/77.dot\n",
      "Dot file for 73.pkl saved to ../Decision_Tree_DOT_Files/73.dot\n",
      "Dot file for 99.pkl saved to ../Decision_Tree_DOT_Files/99.dot\n",
      "Dot file for 8.pkl saved to ../Decision_Tree_DOT_Files/8.dot\n",
      "Dot file for 66.pkl saved to ../Decision_Tree_DOT_Files/66.dot\n",
      "Dot file for 64.pkl saved to ../Decision_Tree_DOT_Files/64.dot\n",
      "Dot file for 70.pkl saved to ../Decision_Tree_DOT_Files/70.dot\n",
      "Dot file for 58.pkl saved to ../Decision_Tree_DOT_Files/58.dot\n",
      "Dot file for 59.pkl saved to ../Decision_Tree_DOT_Files/59.dot\n",
      "Dot file for 71.pkl saved to ../Decision_Tree_DOT_Files/71.dot\n",
      "Dot file for 65.pkl saved to ../Decision_Tree_DOT_Files/65.dot\n",
      "Dot file for 16.pkl saved to ../Decision_Tree_DOT_Files/16.dot\n",
      "Dot file for 29.pkl saved to ../Decision_Tree_DOT_Files/29.dot\n",
      "Dot file for 100.pkl saved to ../Decision_Tree_DOT_Files/100.dot\n",
      "Dot file for 14.pkl saved to ../Decision_Tree_DOT_Files/14.dot\n",
      "Dot file for 28.pkl saved to ../Decision_Tree_DOT_Files/28.dot\n",
      "Dot file for 39.pkl saved to ../Decision_Tree_DOT_Files/39.dot\n",
      "Dot file for 13.pkl saved to ../Decision_Tree_DOT_Files/13.dot\n",
      "Dot file for 12.pkl saved to ../Decision_Tree_DOT_Files/12.dot\n",
      "Dot file for 23.pkl saved to ../Decision_Tree_DOT_Files/23.dot\n",
      "Dot file for 37.pkl saved to ../Decision_Tree_DOT_Files/37.dot\n",
      "Dot file for 36.pkl saved to ../Decision_Tree_DOT_Files/36.dot\n",
      "Dot file for 22.pkl saved to ../Decision_Tree_DOT_Files/22.dot\n",
      "Dot file for 20.pkl saved to ../Decision_Tree_DOT_Files/20.dot\n",
      "Dot file for 35.pkl saved to ../Decision_Tree_DOT_Files/35.dot\n",
      "Dot file for 31.pkl saved to ../Decision_Tree_DOT_Files/31.dot\n",
      "Dot file for 25.pkl saved to ../Decision_Tree_DOT_Files/25.dot\n",
      "Dot file for 18.pkl saved to ../Decision_Tree_DOT_Files/18.dot\n",
      "Dot file for 24.pkl saved to ../Decision_Tree_DOT_Files/24.dot\n",
      "Dot file for 26.pkl saved to ../Decision_Tree_DOT_Files/26.dot\n",
      "Dot file for 32.pkl saved to ../Decision_Tree_DOT_Files/32.dot\n",
      "Dot file for 33.pkl saved to ../Decision_Tree_DOT_Files/33.dot\n",
      "Dot file for 27.pkl saved to ../Decision_Tree_DOT_Files/27.dot\n",
      "Dot file for 68.pkl saved to ../Decision_Tree_DOT_Files/68.dot\n",
      "Dot file for 54.pkl saved to ../Decision_Tree_DOT_Files/54.dot\n",
      "Dot file for 83.pkl saved to ../Decision_Tree_DOT_Files/83.dot\n",
      "Dot file for 97.pkl saved to ../Decision_Tree_DOT_Files/97.dot\n",
      "Dot file for 82.pkl saved to ../Decision_Tree_DOT_Files/82.dot\n",
      "Dot file for 55.pkl saved to ../Decision_Tree_DOT_Files/55.dot\n",
      "Dot file for 41.pkl saved to ../Decision_Tree_DOT_Files/41.dot\n",
      "Dot file for 69.pkl saved to ../Decision_Tree_DOT_Files/69.dot\n",
      "Dot file for 43.pkl saved to ../Decision_Tree_DOT_Files/43.dot\n",
      "Dot file for 94.pkl saved to ../Decision_Tree_DOT_Files/94.dot\n",
      "Dot file for 80.pkl saved to ../Decision_Tree_DOT_Files/80.dot\n",
      "Dot file for 81.pkl saved to ../Decision_Tree_DOT_Files/81.dot\n",
      "Dot file for 42.pkl saved to ../Decision_Tree_DOT_Files/42.dot\n",
      "Dot file for 4.pkl saved to ../Decision_Tree_DOT_Files/4.dot\n",
      "Dot file for 52.pkl saved to ../Decision_Tree_DOT_Files/52.dot\n",
      "Dot file for 46.pkl saved to ../Decision_Tree_DOT_Files/46.dot\n",
      "Dot file for 84.pkl saved to ../Decision_Tree_DOT_Files/84.dot\n",
      "Dot file for 90.pkl saved to ../Decision_Tree_DOT_Files/90.dot\n",
      "Dot file for 47.pkl saved to ../Decision_Tree_DOT_Files/47.dot\n",
      "Dot file for 53.pkl saved to ../Decision_Tree_DOT_Files/53.dot\n",
      "Dot file for 45.pkl saved to ../Decision_Tree_DOT_Files/45.dot\n",
      "Dot file for 51.pkl saved to ../Decision_Tree_DOT_Files/51.dot\n",
      "Dot file for 86.pkl saved to ../Decision_Tree_DOT_Files/86.dot\n",
      "Dot file for 92.pkl saved to ../Decision_Tree_DOT_Files/92.dot\n",
      "Dot file for 93.pkl saved to ../Decision_Tree_DOT_Files/93.dot\n",
      "Dot file for 87.pkl saved to ../Decision_Tree_DOT_Files/87.dot\n",
      "Dot file for 78.pkl saved to ../Decision_Tree_DOT_Files/78.dot\n",
      "Dot file for 2.pkl saved to ../Decision_Tree_DOT_Files/2.dot\n",
      "Dot file for 50.pkl saved to ../Decision_Tree_DOT_Files/50.dot\n",
      "Dot file for 44.pkl saved to ../Decision_Tree_DOT_Files/44.dot\n"
     ]
    }
   ],
   "source": [
    "def load_pickle_file(file_path):\n",
    "    with open(file_path, 'rb') as file:\n",
    "        data = pickle.load(file)\n",
    "    return data\n",
    "\n",
    "for f_name in os.listdir(pkl_dir):\n",
    "    if f_name.endswith('.pkl'):\n",
    "        full_path = os.path.join(pkl_dir, f_name)\n",
    "        data = load_pickle_file(full_path)\n",
    "        xgb_model = data['model']\n",
    "        \n",
    "        # Generate a dot file for the first tree\n",
    "        dot_filename = os.path.splitext(f_name)[0] + '.dot'\n",
    "        xgb.to_graphviz(xgb_model, num_trees=0, condition_node_params={'shape': 'box', 'style': 'filled, rounded', 'fillcolor': '#78bceb'}, leaf_node_params={'shape': 'box', 'style': 'filled', 'fillcolor': '#e48038'}).render(filename=dot_filename, directory=dot_dir, format='dot', cleanup=True)\n",
    "        print(f\"Dot file for {f_name} saved to {dot_dir}/{dot_filename}\")"
   ],
   "metadata": {
    "collapsed": false,
    "ExecuteTime": {
     "end_time": "2024-02-29T10:00:33.300793Z",
     "start_time": "2024-02-29T10:00:24.163796Z"
    }
   },
   "id": "3854b4407527fcd1"
  },
  {
   "cell_type": "code",
   "execution_count": 5,
   "outputs": [
    {
     "ename": "AttributeError",
     "evalue": "'XGBClassifier' object has no attribute 'info'",
     "output_type": "error",
     "traceback": [
      "\u001B[0;31m---------------------------------------------------------------------------\u001B[0m",
      "\u001B[0;31mAttributeError\u001B[0m                            Traceback (most recent call last)",
      "Cell \u001B[0;32mIn[5], line 1\u001B[0m\n\u001B[0;32m----> 1\u001B[0m \u001B[43mxgb_model\u001B[49m\u001B[38;5;241;43m.\u001B[39;49m\u001B[43minfo\u001B[49m()\n",
      "\u001B[0;31mAttributeError\u001B[0m: 'XGBClassifier' object has no attribute 'info'"
     ]
    }
   ],
   "source": [
    "xgb_model.info()"
   ],
   "metadata": {
    "collapsed": false,
    "ExecuteTime": {
     "end_time": "2024-02-29T10:00:33.353608Z",
     "start_time": "2024-02-29T10:00:33.299095Z"
    }
   },
   "id": "48c42dffe1f9b7ea"
  },
  {
   "cell_type": "code",
   "execution_count": null,
   "outputs": [],
   "source": [],
   "metadata": {
    "collapsed": false,
    "ExecuteTime": {
     "start_time": "2024-02-29T10:00:33.350249Z"
    }
   },
   "id": "d343c483c72c141d"
  }
 ],
 "metadata": {
  "kernelspec": {
   "display_name": "Python 3",
   "language": "python",
   "name": "python3"
  },
  "language_info": {
   "codemirror_mode": {
    "name": "ipython",
    "version": 2
   },
   "file_extension": ".py",
   "mimetype": "text/x-python",
   "name": "python",
   "nbconvert_exporter": "python",
   "pygments_lexer": "ipython2",
   "version": "2.7.6"
  }
 },
 "nbformat": 4,
 "nbformat_minor": 5
}
