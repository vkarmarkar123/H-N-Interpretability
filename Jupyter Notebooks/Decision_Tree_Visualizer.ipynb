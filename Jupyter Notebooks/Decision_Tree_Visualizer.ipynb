{
 "cells": [
  {
   "cell_type": "markdown",
   "source": [
    "**This notebook iterates over a folder full of pkl files and generates images of decision trees for the model in each pkl file. It saves the images in a folder in the same directory. If the folder to save in does not exist, it is created.**\n",
    "\n",
    "This file uses xgboost's own `.plot_tree` function"
   ],
   "metadata": {
    "collapsed": false
   },
   "id": "48e3da7518142626"
  },
  {
   "cell_type": "code",
   "execution_count": 24,
   "id": "initial_id",
   "metadata": {
    "collapsed": true,
    "ExecuteTime": {
     "end_time": "2024-02-07T18:09:54.954128Z",
     "start_time": "2024-02-07T18:09:54.948904Z"
    }
   },
   "outputs": [],
   "source": [
    "import os\n",
    "import xgboost as xgb #2.0.3\n",
    "import matplotlib.pyplot as plt\n",
    "import pickle"
   ]
  },
  {
   "cell_type": "markdown",
   "source": [
    "**Set directory paths to get .pkl files and to store Decision Tree PNGs**"
   ],
   "metadata": {
    "collapsed": false
   },
   "id": "fc4e9432c3545de2"
  },
  {
   "cell_type": "code",
   "execution_count": 22,
   "outputs": [],
   "source": [
    "pkl_dir = 'V4_Anatomic_DT_LG'\n",
    "png_dir = 'Decision_Tree_PNGs'\n",
    "if not os.path.exists(png_dir):\n",
    "    os.makedirs(png_dir)"
   ],
   "metadata": {
    "collapsed": false,
    "ExecuteTime": {
     "end_time": "2024-02-07T18:05:42.785986Z",
     "start_time": "2024-02-07T18:05:42.785104Z"
    }
   },
   "id": "11a9fb809a5b6905"
  },
  {
   "cell_type": "markdown",
   "source": [
    "**Load .pkl file to get the model**"
   ],
   "metadata": {
    "collapsed": false
   },
   "id": "5ad401e03f5f205a"
  },
  {
   "cell_type": "code",
   "execution_count": 23,
   "outputs": [],
   "source": [
    "def load_pickle_file(file_path):\n",
    "    with open(file_path, 'rb') as file:\n",
    "        data = pickle.load(file)\n",
    "    return data\n",
    "\n",
    "for f_name in os.listdir(pkl_dir):\n",
    "    if f_name.endswith('.pkl'):\n",
    "        full_path = os.path.join(pkl_dir, f_name)\n",
    "        data = load_pickle_file(full_path)\n",
    "        xgb_model = data['model']\n",
    "        \n",
    "        #plot\n",
    "        _, ax = plt.subplots(figsize=(10,10), dpi=100) #modify dpi value for better resolution (ex. 200 or 300)\n",
    "        xgb.plot_tree(xgb_model, num_trees=0, ax=ax)\n",
    "        \n",
    "        png_filename = os.path.splitext(f_name)[0] + '.png'\n",
    "        \n",
    "        plt.savefig(os.path.join(png_dir, png_filename), dpi=100) #modify dpi value for better resolution (ex. 200 or 300)\n",
    "        plt.close()"
   ],
   "metadata": {
    "collapsed": false,
    "ExecuteTime": {
     "end_time": "2024-02-07T18:07:19.917509Z",
     "start_time": "2024-02-07T18:06:07.037743Z"
    }
   },
   "id": "473dfd77c453531a"
  },
  {
   "cell_type": "markdown",
   "source": [
    "**Function for user prompt to pick a pkl file**"
   ],
   "metadata": {
    "collapsed": false
   },
   "id": "b9004e3310f0b305"
  },
  {
   "cell_type": "code",
   "execution_count": null,
   "outputs": [],
   "source": [
    "# def load_pickle_file():\n",
    "#     root = tk.Tk()\n",
    "#     root.withdraw()\n",
    "#     file_path = filedialog.askopenfilename(filetypes=[(\"Pickle files\", \"*.pkl\")])\n",
    "# \n",
    "#     if file_path:\n",
    "#         with open(file_path, 'rb') as file:\n",
    "#             data = pickle.load(file)\n",
    "#         root.destroy()  # Close the tkinter root window\n",
    "#         return data\n",
    "#     else:\n",
    "#         print(\"No file selected.\")\n",
    "#         root.destroy()\n",
    "#         return None"
   ],
   "metadata": {
    "collapsed": false
   },
   "id": "3b67e9347e9647f7"
  }
 ],
 "metadata": {
  "kernelspec": {
   "display_name": "Python 3",
   "language": "python",
   "name": "python3"
  },
  "language_info": {
   "codemirror_mode": {
    "name": "ipython",
    "version": 2
   },
   "file_extension": ".py",
   "mimetype": "text/x-python",
   "name": "python",
   "nbconvert_exporter": "python",
   "pygments_lexer": "ipython2",
   "version": "2.7.6"
  }
 },
 "nbformat": 4,
 "nbformat_minor": 5
}
